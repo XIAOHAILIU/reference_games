{
 "cells": [
  {
   "cell_type": "markdown",
   "metadata": {},
   "source": [
    "# POS-tagging for comparative/superlative identification"
   ]
  },
  {
   "cell_type": "markdown",
   "metadata": {},
   "source": [
    "__Contents__\n",
    "\n",
    "0. [Start the Stanford CoreNLP server](#Start-the-Stanford-CoreNLP-server)\n",
    "0. [Convenience function for POS tagging](#Convenience-function-for-POS-tagging)\n",
    "0. [Comparative/Superlative identifiers](#Comparative/Superlative-identifiers)\n",
    "0. [Data analysis](#Data-analysis)\n",
    "  0. [Tag the data](#Tag-the-data)\n",
    "  0. [Identify comparatives and superlatives](#Identify-comparatives-and-superlatives)\n",
    "  0. [Inspection](#Inspection)"
   ]
  },
  {
   "cell_type": "code",
   "execution_count": 10,
   "metadata": {
    "collapsed": false
   },
   "outputs": [],
   "source": [
    "import json\n",
    "import os\n",
    "import pandas as pd\n",
    "import nltk as nltk\n",
    "from pycorenlp import StanfordCoreNLP"
   ]
  },
  {
   "cell_type": "markdown",
   "metadata": {},
   "source": [
    "## Start the Stanford CoreNLP server\n",
    "\n",
    "Before running this notebook, [get CoreNLP](http://nlp.stanford.edu/software/stanford-corenlp-full-2015-12-09.zip), go into its directory, and run\n",
    "\n",
    "`java -mx4g -cp \"*\" edu.stanford.nlp.pipeline.StanfordCoreNLPServer 9000`\n",
    "\n",
    "If you're using port 9000 for something else, change that value and then change `PORT` in the next cell.\n",
    "\n",
    "(To suppress output, run with `-prettyPrint false 2&>1 >/dev/null` at the end)"
   ]
  },
  {
   "cell_type": "code",
   "execution_count": 11,
   "metadata": {
    "collapsed": false
   },
   "outputs": [],
   "source": [
    "PORT = 9000\n",
    "\n",
    "nlp = StanfordCoreNLP('http://localhost:{}'.format(PORT))"
   ]
  },
  {
   "cell_type": "markdown",
   "metadata": {},
   "source": [
    "## Convenience function for POS tagging"
   ]
  },
  {
   "cell_type": "code",
   "execution_count": 12,
   "metadata": {
    "collapsed": false
   },
   "outputs": [],
   "source": [
    "def stanford_pos(text):\n",
    "    \"\"\"\n",
    "    Parameters\n",
    "    ----------\n",
    "    text : str\n",
    "       CoreNLP handles all tokenizing, at the sentence and word level.\n",
    "       \n",
    "    Returns\n",
    "    -------\n",
    "    list of tuples (str, str)\n",
    "       The first member of each pair is the word, the second its POS tag.          \n",
    "    \"\"\"\n",
    "    if not isinstance(text, basestring):\n",
    "        print '%s: %s' % (type(text), str(text))\n",
    "    try:\n",
    "        if text.strip() == '':\n",
    "            return []\n",
    "\n",
    "        #text = str(text)\n",
    "        ann = nlp.annotate(\n",
    "            text, \n",
    "            properties={'annotators': 'pos', \n",
    "                        'outputFormat': 'json'})\n",
    "        lemmas = []\n",
    "        if isinstance(ann, basestring):\n",
    "            ann = json.loads(ann.replace('\\x00', '?').encode('latin-1'), encoding='utf-8', strict=True)\n",
    "        for sentence in ann['sentences']:\n",
    "            for token in sentence['tokens']:\n",
    "                lemmas.append((token['word'], token['pos']))\n",
    "    except Exception as e:\n",
    "        print text\n",
    "        raise\n",
    "    return lemmas"
   ]
  },
  {
   "cell_type": "markdown",
   "metadata": {},
   "source": [
    "## Comparative/Superlative identifiers"
   ]
  },
  {
   "cell_type": "code",
   "execution_count": 13,
   "metadata": {
    "collapsed": false
   },
   "outputs": [],
   "source": [
    "from nltk.stem.wordnet import WordNetLemmatizer\n",
    "\n",
    "LEMMATIZER = WordNetLemmatizer()\n",
    "\n",
    "def is_comp_sup(word, pos, tags, check_lemmatizer=False):\n",
    "    \"\"\"\n",
    "    Parameters\n",
    "    ----------\n",
    "    word, pos : str, str\n",
    "        The lemma.\n",
    "    \n",
    "    tags : iterable of str\n",
    "        The tags considered positive evidence for comp/sup morphology.\n",
    "       \n",
    "       \n",
    "    check_lemmatizer : bool\n",
    "        If True, then if the `pos` is in `tags`, we also check that\n",
    "        `word` is different from the lemmatized version of word\n",
    "        according to WordNet, treating it as an adjective. This \n",
    "        could be used to achieve greater precision, perhaps at the\n",
    "        expense of recall.\n",
    "       \n",
    "    Returns\n",
    "    -------\n",
    "    bool       \n",
    "    \"\"\"\n",
    "    if pos not in tags:\n",
    "        return False\n",
    "    if check_lemmatizer and LEMMATIZER.lemmatize(word, 'a') == word:\n",
    "        return False\n",
    "    return True\n",
    "\n",
    "def is_superlative(word, pos, check_lemmatizer=False):\n",
    "    return is_comp_sup(\n",
    "        word, pos, {'JJS', 'RBS'}, check_lemmatizer=check_lemmatizer)\n",
    "\n",
    "def is_comparative(word, pos, check_lemmatizer=False):\n",
    "    return is_comp_sup(\n",
    "        word, pos, {'JJR', 'RBR'}, check_lemmatizer=check_lemmatizer)"
   ]
  },
  {
   "cell_type": "markdown",
   "metadata": {},
   "source": [
    "## Data analysis"
   ]
  },
  {
   "cell_type": "code",
   "execution_count": 15,
   "metadata": {
    "collapsed": false,
    "scrolled": false
   },
   "outputs": [],
   "source": [
    "d_human = (pd.read_csv('humanOutput/filteredCorpus.csv')\n",
    "     .assign(source = 'human'))\n",
    "d_prag = (pd.read_csv('modelOutput/speaker_big_sl_perp_sampled_message.csv')\n",
    "     .assign(source = 'pragmatic'))\n",
    "d_lit = (pd.read_csv('modelOutput/speaker_big_s0_untuned_sampled_message.csv')\n",
    "     .assign(source = 'literal'))\n",
    "d = d_human.append(d_prag).append(d_lit)"
   ]
  },
  {
   "cell_type": "code",
   "execution_count": 16,
   "metadata": {
    "collapsed": false
   },
   "outputs": [],
   "source": [
    "d['contents'] = d['contents'].fillna('')\n",
    "d_human['contents'] = d_human['contents'].fillna('')\n",
    "d_prag['contents'] = d_prag['contents'].fillna('')\n",
    "d_lit['contents'] = d_lit['contents'].fillna('')"
   ]
  },
  {
   "cell_type": "markdown",
   "metadata": {},
   "source": [
    "### Tag the data"
   ]
  },
  {
   "cell_type": "code",
   "execution_count": 17,
   "metadata": {
    "collapsed": false
   },
   "outputs": [
    {
     "data": {
      "text/plain": [
       "[(u'\\u4f60\\u597d', u'NN'), (u'\\uff01', u'CD'), (u'\\u4f60\\u597d\\u5417', u'CD')]"
      ]
     },
     "execution_count": 17,
     "metadata": {},
     "output_type": "execute_result"
    }
   ],
   "source": [
    "stanford_pos('\\xe4\\xbd\\xa0\\xe5\\xa5\\xbd\\xef\\xbc\\x81\\xe4\\xbd\\xa0\\xe5\\xa5\\xbd\\xe5\\x90\\x97'.decode('utf-8'))"
   ]
  },
  {
   "cell_type": "code",
   "execution_count": 18,
   "metadata": {
    "collapsed": false
   },
   "outputs": [],
   "source": [
    "# A lemma is a (word, pos) tag pair.\n",
    "lemmas = []\n",
    "for i, text in enumerate(d['contents']):\n",
    "    lemmas.append(stanford_pos(unicode(text).decode('utf-8')))\n",
    "d['lemmas'] = lemmas"
   ]
  },
  {
   "cell_type": "code",
   "execution_count": 19,
   "metadata": {
    "collapsed": false
   },
   "outputs": [],
   "source": [
    "# for i, text in enumerate(d['contents'][62108:]):\n",
    "#     lemmas.append(stanford_pos(unicode(text).decode('utf-8')))\n",
    "# d['lemmas'] = lemmas"
   ]
  },
  {
   "cell_type": "markdown",
   "metadata": {},
   "source": [
    "### Identify comparatives and superlatives\n",
    "\n",
    "These steps put a 1 in the position of comparatives/superlatives, and a 0 in all other places, to maintain alignment with the original texts."
   ]
  },
  {
   "cell_type": "code",
   "execution_count": 20,
   "metadata": {
    "collapsed": false
   },
   "outputs": [],
   "source": [
    "d['superlatives'] = [[1 if is_superlative(*lem) else 0 for lem in lemmas]\n",
    "                     for lemmas in d['lemmas']]"
   ]
  },
  {
   "cell_type": "code",
   "execution_count": 21,
   "metadata": {
    "collapsed": false
   },
   "outputs": [],
   "source": [
    "d['comparatives'] = [[1 if is_comparative(*lem) else 0 for lem in lemmas]\n",
    "                     for lemmas in d['lemmas']]"
   ]
  },
  {
   "cell_type": "markdown",
   "metadata": {},
   "source": [
    "Count superlatives & comparatives"
   ]
  },
  {
   "cell_type": "code",
   "execution_count": 22,
   "metadata": {
    "collapsed": false
   },
   "outputs": [],
   "source": [
    "d['numSuper'] = [sum(counts) for counts in d['superlatives']]\n",
    "\n",
    "d['numComp'] = [sum(counts) for counts in d['comparatives']]"
   ]
  },
  {
   "cell_type": "markdown",
   "metadata": {},
   "source": [
    "### Inspection"
   ]
  },
  {
   "cell_type": "markdown",
   "metadata": {},
   "source": [
    "Run the cell below to allow for non-scrolling display:"
   ]
  },
  {
   "cell_type": "code",
   "execution_count": 13,
   "metadata": {
    "collapsed": false
   },
   "outputs": [
    {
     "data": {
      "application/javascript": [
       "IPython.OutputArea.auto_scroll_threshold = 9999;"
      ],
      "text/plain": [
       "<IPython.core.display.Javascript object>"
      ]
     },
     "metadata": {},
     "output_type": "display_data"
    }
   ],
   "source": [
    "%%javascript\n",
    "IPython.OutputArea.auto_scroll_threshold = 9999;"
   ]
  },
  {
   "cell_type": "code",
   "execution_count": 14,
   "metadata": {
    "collapsed": false
   },
   "outputs": [
    {
     "data": {
      "text/html": [
       "<div>\n",
       "<table border=\"1\" class=\"dataframe\">\n",
       "  <thead>\n",
       "    <tr style=\"text-align: right;\">\n",
       "      <th></th>\n",
       "      <th>gameid</th>\n",
       "      <th>time</th>\n",
       "      <th>roundNum</th>\n",
       "      <th>sender</th>\n",
       "      <th>contents</th>\n",
       "      <th>source</th>\n",
       "      <th>lemmas</th>\n",
       "      <th>superlatives</th>\n",
       "      <th>comparatives</th>\n",
       "      <th>numSuper</th>\n",
       "      <th>numComp</th>\n",
       "    </tr>\n",
       "  </thead>\n",
       "  <tbody>\n",
       "    <tr>\n",
       "      <th>0</th>\n",
       "      <td>1124-1</td>\n",
       "      <td>1459877203862</td>\n",
       "      <td>1</td>\n",
       "      <td>speaker</td>\n",
       "      <td>The darker blue one</td>\n",
       "      <td>human</td>\n",
       "      <td>[(The, DT), (darker, JJR), (blue, JJ), (one, NN)]</td>\n",
       "      <td>[0, 0, 0, 0]</td>\n",
       "      <td>[0, 1, 0, 0]</td>\n",
       "      <td>0</td>\n",
       "      <td>1</td>\n",
       "    </tr>\n",
       "    <tr>\n",
       "      <th>13</th>\n",
       "      <td>1124-1</td>\n",
       "      <td>1459877360202</td>\n",
       "      <td>13</td>\n",
       "      <td>speaker</td>\n",
       "      <td>One of the brown ones, the lighter shaded one</td>\n",
       "      <td>human</td>\n",
       "      <td>[(One, CD), (of, IN), (the, DT), (brown, JJ), ...</td>\n",
       "      <td>[0, 0, 0, 0, 0, 0, 0, 0, 0, 0]</td>\n",
       "      <td>[0, 0, 0, 0, 0, 0, 0, 1, 0, 0]</td>\n",
       "      <td>0</td>\n",
       "      <td>1</td>\n",
       "    </tr>\n",
       "    <tr>\n",
       "      <th>14</th>\n",
       "      <td>1124-1</td>\n",
       "      <td>1459877388314</td>\n",
       "      <td>14</td>\n",
       "      <td>speaker</td>\n",
       "      <td>The more vibrantly red one.~~~~~~ not the more...</td>\n",
       "      <td>human</td>\n",
       "      <td>[(The, DT), (more, JJR), (vibrantly, RB), (red...</td>\n",
       "      <td>[0, 0, 0, 0, 0, 0, 0, 0, 0, 0, 0, 0, 0, 0, 0, ...</td>\n",
       "      <td>[0, 1, 0, 0, 0, 0, 0, 0, 0, 0, 0, 0, 0, 0, 1, ...</td>\n",
       "      <td>0</td>\n",
       "      <td>2</td>\n",
       "    </tr>\n",
       "    <tr>\n",
       "      <th>31</th>\n",
       "      <td>1124-1</td>\n",
       "      <td>1459877544164</td>\n",
       "      <td>26</td>\n",
       "      <td>speaker</td>\n",
       "      <td>darker red</td>\n",
       "      <td>human</td>\n",
       "      <td>[(darker, JJR), (red, NN)]</td>\n",
       "      <td>[0, 0]</td>\n",
       "      <td>[1, 0]</td>\n",
       "      <td>0</td>\n",
       "      <td>1</td>\n",
       "    </tr>\n",
       "    <tr>\n",
       "      <th>33</th>\n",
       "      <td>1124-1</td>\n",
       "      <td>1459877564218</td>\n",
       "      <td>28</td>\n",
       "      <td>speaker</td>\n",
       "      <td>purple, darker one</td>\n",
       "      <td>human</td>\n",
       "      <td>[(purple, JJ), (,, ,), (darker, JJR), (one, CD)]</td>\n",
       "      <td>[0, 0, 0, 0]</td>\n",
       "      <td>[0, 0, 1, 0]</td>\n",
       "      <td>0</td>\n",
       "      <td>1</td>\n",
       "    </tr>\n",
       "  </tbody>\n",
       "</table>\n",
       "</div>"
      ],
      "text/plain": [
       "    gameid           time  roundNum   sender  \\\n",
       "0   1124-1  1459877203862         1  speaker   \n",
       "13  1124-1  1459877360202        13  speaker   \n",
       "14  1124-1  1459877388314        14  speaker   \n",
       "31  1124-1  1459877544164        26  speaker   \n",
       "33  1124-1  1459877564218        28  speaker   \n",
       "\n",
       "                                             contents source  \\\n",
       "0                                 The darker blue one  human   \n",
       "13      One of the brown ones, the lighter shaded one  human   \n",
       "14  The more vibrantly red one.~~~~~~ not the more...  human   \n",
       "31                                         darker red  human   \n",
       "33                                 purple, darker one  human   \n",
       "\n",
       "                                               lemmas  \\\n",
       "0   [(The, DT), (darker, JJR), (blue, JJ), (one, NN)]   \n",
       "13  [(One, CD), (of, IN), (the, DT), (brown, JJ), ...   \n",
       "14  [(The, DT), (more, JJR), (vibrantly, RB), (red...   \n",
       "31                         [(darker, JJR), (red, NN)]   \n",
       "33   [(purple, JJ), (,, ,), (darker, JJR), (one, CD)]   \n",
       "\n",
       "                                         superlatives  \\\n",
       "0                                        [0, 0, 0, 0]   \n",
       "13                     [0, 0, 0, 0, 0, 0, 0, 0, 0, 0]   \n",
       "14  [0, 0, 0, 0, 0, 0, 0, 0, 0, 0, 0, 0, 0, 0, 0, ...   \n",
       "31                                             [0, 0]   \n",
       "33                                       [0, 0, 0, 0]   \n",
       "\n",
       "                                         comparatives  numSuper  numComp  \n",
       "0                                        [0, 1, 0, 0]         0        1  \n",
       "13                     [0, 0, 0, 0, 0, 0, 0, 1, 0, 0]         0        1  \n",
       "14  [0, 1, 0, 0, 0, 0, 0, 0, 0, 0, 0, 0, 0, 0, 1, ...         0        2  \n",
       "31                                             [1, 0]         0        1  \n",
       "33                                       [0, 0, 1, 0]         0        1  "
      ]
     },
     "execution_count": 14,
     "metadata": {},
     "output_type": "execute_result"
    }
   ],
   "source": [
    "d.query('numComp > 0').head()"
   ]
  },
  {
   "cell_type": "code",
   "execution_count": 45,
   "metadata": {
    "collapsed": false
   },
   "outputs": [
    {
     "data": {
      "text/html": [
       "<div>\n",
       "<table border=\"1\" class=\"dataframe\">\n",
       "  <thead>\n",
       "    <tr style=\"text-align: right;\">\n",
       "      <th></th>\n",
       "      <th>gameid</th>\n",
       "      <th>time</th>\n",
       "      <th>roundNum</th>\n",
       "      <th>sender</th>\n",
       "      <th>contents</th>\n",
       "      <th>source</th>\n",
       "      <th>lemmas</th>\n",
       "      <th>superlatives</th>\n",
       "      <th>comparatives</th>\n",
       "      <th>numSuper</th>\n",
       "      <th>numComp</th>\n",
       "    </tr>\n",
       "  </thead>\n",
       "  <tbody>\n",
       "    <tr>\n",
       "      <th>10</th>\n",
       "      <td>8994-5</td>\n",
       "      <td>1476489931875</td>\n",
       "      <td>46</td>\n",
       "      <td>speaker</td>\n",
       "      <td>dark blue , lighter</td>\n",
       "      <td>model</td>\n",
       "      <td>[(dark, JJ), (blue, JJ), (,, ,), (lighter, JJR)]</td>\n",
       "      <td>[0, 0, 0, 0]</td>\n",
       "      <td>[0, 0, 0, 1]</td>\n",
       "      <td>0</td>\n",
       "      <td>1</td>\n",
       "    </tr>\n",
       "    <tr>\n",
       "      <th>20</th>\n",
       "      <td>2641-2</td>\n",
       "      <td>1476489571015</td>\n",
       "      <td>6</td>\n",
       "      <td>speaker</td>\n",
       "      <td>the purplish box . ~ one that is purple , more...</td>\n",
       "      <td>model</td>\n",
       "      <td>[(the, DT), (purplish, NN), (box, NN), (., .),...</td>\n",
       "      <td>[0, 0, 0, 0, 0, 0, 0, 0, 0, 0, 0, 0, 0, 0, 0, ...</td>\n",
       "      <td>[0, 0, 0, 0, 0, 0, 0, 0, 0, 0, 1, 0, 0, 0, 0, ...</td>\n",
       "      <td>0</td>\n",
       "      <td>1</td>\n",
       "    </tr>\n",
       "    <tr>\n",
       "      <th>26</th>\n",
       "      <td>2641-2</td>\n",
       "      <td>1476489632676</td>\n",
       "      <td>12</td>\n",
       "      <td>speaker</td>\n",
       "      <td>brighter green , not the olive or dull color</td>\n",
       "      <td>model</td>\n",
       "      <td>[(brighter, JJR), (green, JJ), (,, ,), (not, R...</td>\n",
       "      <td>[0, 0, 0, 0, 0, 0, 0, 0, 0]</td>\n",
       "      <td>[1, 0, 0, 0, 0, 0, 0, 0, 0]</td>\n",
       "      <td>0</td>\n",
       "      <td>1</td>\n",
       "    </tr>\n",
       "    <tr>\n",
       "      <th>30</th>\n",
       "      <td>2641-2</td>\n",
       "      <td>1476489717242</td>\n",
       "      <td>16</td>\n",
       "      <td>speaker</td>\n",
       "      <td>the duller purple ~ dullest ~ more purple</td>\n",
       "      <td>model</td>\n",
       "      <td>[(the, DT), (duller, RBR), (purple, JJ), (~, N...</td>\n",
       "      <td>[0, 0, 0, 0, 1, 0, 0, 0]</td>\n",
       "      <td>[0, 1, 0, 0, 0, 0, 1, 0]</td>\n",
       "      <td>1</td>\n",
       "      <td>2</td>\n",
       "    </tr>\n",
       "    <tr>\n",
       "      <th>41</th>\n",
       "      <td>2641-2</td>\n",
       "      <td>1476489870754</td>\n",
       "      <td>27</td>\n",
       "      <td>speaker</td>\n",
       "      <td>this one is a brightest on the rockies 2 look ...</td>\n",
       "      <td>model</td>\n",
       "      <td>[(this, DT), (one, CD), (is, VBZ), (a, DT), (b...</td>\n",
       "      <td>[0, 0, 0, 0, 1, 0, 0, 0, 0, 0, 0, 0, 0, 0, 0, ...</td>\n",
       "      <td>[0, 0, 0, 0, 0, 0, 0, 0, 0, 0, 0, 0, 0, 0, 0, ...</td>\n",
       "      <td>1</td>\n",
       "      <td>1</td>\n",
       "    </tr>\n",
       "  </tbody>\n",
       "</table>\n",
       "</div>"
      ],
      "text/plain": [
       "    gameid           time  roundNum   sender  \\\n",
       "10  8994-5  1476489931875        46  speaker   \n",
       "20  2641-2  1476489571015         6  speaker   \n",
       "26  2641-2  1476489632676        12  speaker   \n",
       "30  2641-2  1476489717242        16  speaker   \n",
       "41  2641-2  1476489870754        27  speaker   \n",
       "\n",
       "                                             contents source  \\\n",
       "10                                dark blue , lighter  model   \n",
       "20  the purplish box . ~ one that is purple , more...  model   \n",
       "26       brighter green , not the olive or dull color  model   \n",
       "30          the duller purple ~ dullest ~ more purple  model   \n",
       "41  this one is a brightest on the rockies 2 look ...  model   \n",
       "\n",
       "                                               lemmas  \\\n",
       "10   [(dark, JJ), (blue, JJ), (,, ,), (lighter, JJR)]   \n",
       "20  [(the, DT), (purplish, NN), (box, NN), (., .),...   \n",
       "26  [(brighter, JJR), (green, JJ), (,, ,), (not, R...   \n",
       "30  [(the, DT), (duller, RBR), (purple, JJ), (~, N...   \n",
       "41  [(this, DT), (one, CD), (is, VBZ), (a, DT), (b...   \n",
       "\n",
       "                                         superlatives  \\\n",
       "10                                       [0, 0, 0, 0]   \n",
       "20  [0, 0, 0, 0, 0, 0, 0, 0, 0, 0, 0, 0, 0, 0, 0, ...   \n",
       "26                        [0, 0, 0, 0, 0, 0, 0, 0, 0]   \n",
       "30                           [0, 0, 0, 0, 1, 0, 0, 0]   \n",
       "41  [0, 0, 0, 0, 1, 0, 0, 0, 0, 0, 0, 0, 0, 0, 0, ...   \n",
       "\n",
       "                                         comparatives  numSuper  numComp  \n",
       "10                                       [0, 0, 0, 1]         0        1  \n",
       "20  [0, 0, 0, 0, 0, 0, 0, 0, 0, 0, 1, 0, 0, 0, 0, ...         0        1  \n",
       "26                        [1, 0, 0, 0, 0, 0, 0, 0, 0]         0        1  \n",
       "30                           [0, 1, 0, 0, 0, 0, 1, 0]         1        2  \n",
       "41  [0, 0, 0, 0, 0, 0, 0, 0, 0, 0, 0, 0, 0, 0, 0, ...         1        1  "
      ]
     },
     "execution_count": 45,
     "metadata": {},
     "output_type": "execute_result"
    }
   ],
   "source": [
    "d.query('numComp > 0 & source == \"model\"').head()"
   ]
  },
  {
   "cell_type": "markdown",
   "metadata": {
    "collapsed": true
   },
   "source": [
    "### Write to file"
   ]
  },
  {
   "cell_type": "code",
   "execution_count": 23,
   "metadata": {
    "collapsed": true
   },
   "outputs": [],
   "source": [
    "(d.drop(['superlatives', 'comparatives'], 1)\n",
    " .to_csv(\"taggedColorMsgs.csv\", index = False))"
   ]
  }
 ],
 "metadata": {
  "anaconda-cloud": {},
  "kernelspec": {
   "display_name": "Python 2",
   "language": "python",
   "name": "python2"
  }
 },
 "nbformat": 4,
 "nbformat_minor": 0
}
