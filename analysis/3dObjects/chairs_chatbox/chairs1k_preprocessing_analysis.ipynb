{
 "cells": [
  {
   "cell_type": "code",
   "execution_count": null,
   "metadata": {
    "collapsed": true
   },
   "outputs": [],
   "source": [
    "import numpy as np\n",
    "import pymongo as pm"
   ]
  },
  {
   "cell_type": "markdown",
   "metadata": {},
   "source": [
    "### connect to db"
   ]
  },
  {
   "cell_type": "code",
   "execution_count": 1,
   "metadata": {
    "collapsed": true
   },
   "outputs": [],
   "source": [
    "# set vars \n",
    "auth = pd.read_csv('auth.txt', header = None) # this auth.txt file contains the password for the sketchloop user\n",
    "pswd = auth.values[0][0]\n",
    "user = 'sketchloop'\n",
    "host = 'rxdhawkins.me' ## cocolab ip address\n",
    "\n",
    "# have to fix this to be able to analyze from local\n",
    "import pymongo as pm\n",
    "conn = pm.MongoClient('mongodb://sketchloop:' + pswd + '@127.0.0.1')\n",
    "db = conn['3dObjects']\n",
    "coll = db['chairs_chatbox']"
   ]
  },
  {
   "cell_type": "markdown",
   "metadata": {},
   "source": [
    "### basic details about dataset\n"
   ]
  },
  {
   "cell_type": "code",
   "execution_count": 11,
   "metadata": {
    "collapsed": false
   },
   "outputs": [],
   "source": [
    "###### how many total after we started the chairs1k production sample\n",
    "wave1 = coll.find({'$and': [{'iterationName':'close_only'},{'eventType':'clickedObj'},{'time':{'$gt':1507674252874}}]}).sort('intendedName')\n",
    "wave2 = coll.find({'$and': [{'iterationName':'chairs1k'},{'eventType':'clickedObj'},{'time':{'$gt':1507674252874}}]}).sort('intendedName')\n",
    "print str(wave1.count() + wave2.count()) + ' chair trials in dataset.'"
   ]
  },
  {
   "cell_type": "markdown",
   "metadata": {},
   "source": [
    "### loop through all games and build group data csv"
   ]
  },
  {
   "cell_type": "code",
   "execution_count": null,
   "metadata": {
    "collapsed": true
   },
   "outputs": [],
   "source": [
    "## TODO: encoding for worker ID so that we can always map from that anonymized ID to the actual AMT worker ID"
   ]
  },
  {
   "cell_type": "code",
   "execution_count": 62,
   "metadata": {
    "collapsed": false
   },
   "outputs": [
    {
     "name": "stdout",
     "output_type": "stream",
     "text": [
      "0 7707-35c8e52d-cbcb-46cf-ad81-8e5c27e7d78f\n",
      "1 4010-28da5c74-0914-41e8-8fc5-dbd463fecbfa\n",
      "2 0251-67147534-ab23-47bb-ae28-9ee3b706a709\n",
      "3 8337-db7e52ea-3fee-40d1-9149-715036cc74fe\n",
      "4 5410-36ac6d6b-d002-4b21-84ab-f12587404b91\n",
      "5 4787-709d8583-a67f-4466-80af-3494e5fea62e\n",
      "6 5106-c456fa10-7f38-46d0-8c34-96f04d34359b\n",
      "7 3712-0fb04378-c9d0-4aa2-ace2-13351c19fe95\n",
      "8 7404-9994b645-9207-4dd7-b1ab-1194965d11ce\n",
      "9 3626-fb38f68e-554e-4c59-a3bc-ab6f90dcd563\n",
      "10 1707-657e6c41-2c12-4d00-8fc7-91ca6992f1af\n",
      "11 3641-f715d060-320f-447a-afa9-a8f58e4e3510\n",
      "12 4726-77daa282-b431-452e-94da-d04ed3eb8233\n",
      "13 9939-38e4278d-8d4d-40bb-a32f-bcc78e88c7f9\n",
      "14 3930-7f801786-a3ee-43c1-973b-8df7d507b89f\n",
      "15 6804-2809c267-aed4-4455-8c86-93f717ffdd66\n",
      "16 0772-fcfb8ecd-2960-4e4b-8ffe-5238f738ff5a\n",
      "17 3435-2d5c5cdb-fa1e-4521-8d1d-0bd4a494848b\n",
      "18 3263-386a5010-e76e-43d0-a558-d5bb5a5eedc1\n",
      "19 4968-ff20a88e-45ec-4795-bd33-798fbf0b0862\n",
      "20 1111-2b4ec4b0-a9b4-4114-8184-bf036d025d13\n",
      "21 4579-fb1c8c03-10f9-4ca0-8650-d593548f6fec\n",
      "22 4123-0ed62549-9caa-46ae-aa0a-0b3e70c99a56\n",
      "23 8754-13f386c7-cca0-4940-a938-9af0173a3af4\n",
      "24 4028-e67441d9-c203-415f-8e25-a50324a26b83\n",
      "25 5043-6bfd964b-db18-440f-bcd5-930e580e1c94\n",
      "26 0936-6aa37c15-0a80-4dea-88c9-912ff6516ebd\n",
      "27 7104-3741f013-3e2c-429b-8c0d-dbcf9509e983\n",
      "28 6035-d021e3b1-83d3-447f-9a46-d22952f13a7b\n",
      "29 3010-8bf17967-b7ae-4667-bd9c-f8062bba752c\n",
      "30 6451-cbe6436c-b078-4382-a814-93ea30bf76dd\n",
      "31 9885-15434435-62d8-49cf-945e-e8e1764a8657\n",
      "32 5290-bf25c58a-8c67-4f46-bd61-95b135892ddd\n",
      "33 6692-757a158e-71bb-4bd3-a7df-15a15692fabb\n",
      "34 0542-d487f5d6-aa56-4c71-9c63-428bf85a64ea\n",
      "35 7423-f161e4fd-9fd9-4c81-b8a1-3ec2411cc648\n",
      "36 6551-5330803b-b8d5-4394-bfb5-3f5b365c3051\n",
      "37 0687-1962f658-df69-4922-919f-dd4bd349b4bf\n",
      "38 9365-3586295c-9d0d-4264-88d6-71542e42addf\n",
      "39 6509-99330540-ce46-463f-918e-3d5a51912f9a\n",
      "40 3740-ba01ce2d-2fc3-4a39-a435-cb3ec417526c\n",
      "41 6071-d0a24e81-0974-4ff6-bd8b-712210159351\n",
      "42 0175-61a61f78-1d81-4e38-9fd4-3c091a7782f9\n",
      "43 2564-4564c47e-e89c-4fe3-883e-fac90cfc402c\n",
      "44 2667-f3257f65-c132-4e0c-b294-dd11ad8ae7e1\n",
      "45 9801-a817ff68-726a-47d3-b52b-3527bb605511\n",
      "46 7594-e59e5288-d454-4ade-ae77-b76c71b3f476\n",
      "47 0238-4f885d06-97bf-420a-afc1-627be3eeaf4b\n",
      "48 2838-2278f92f-4916-4f50-8567-b2040ff12517\n",
      "49 7723-ae1c31cc-6239-4dcb-a03d-9c83572364af\n",
      "50 7001-8a842b53-33cc-44f9-b68e-4a57a981c01c\n",
      "51 7536-c270532d-4b66-46aa-8903-f725547620aa\n",
      "52 7354-c567a665-9ce8-4c91-9c3e-28bf209bd43d\n",
      "53 1687-c9d4d5ac-732a-4d24-a0b0-1c64a48cd193\n",
      "54 1322-a00cd233-690d-4baf-90c0-ec93348897c7\n",
      "55 6250-d22d42fb-4c61-4e3e-ab11-dbf8ac856b58\n",
      "56 8777-a927ee9e-d11a-450a-9c35-9e20b0b4f1c3\n",
      "57 5268-9f483f7f-d9f2-4048-9177-0dba7e4bd681\n",
      "58 0955-7b988ac7-7603-4124-8149-50c3a232bbd8\n",
      "59 7086-0fb42776-cda0-425d-9ab2-30fdbc69759b\n",
      "60 8319-f733f710-f509-4590-bd29-32066ad83eb4\n",
      "61 2411-9753f322-cf5d-4808-914c-a83a10683a4c\n",
      "62 6612-be386859-affa-4e0b-88f1-be93e5a850b6\n",
      "63 5388-ec236ae6-5864-43b9-a519-2a00ba667c0a\n",
      "64 9671-42af0969-5510-45d6-84ca-42426089c974\n",
      "65 0002-06648581-4b3c-4a01-a585-7f1f55397f43\n",
      "66 9521-a12d8b36-e5c1-4fb3-9207-d6bb90f22737\n",
      "67 7077-63ab5c1c-f8fc-4b26-bb7f-9d662089e911\n",
      "68 2456-b9f47415-dc6a-4d4a-b921-b908bd2a2a90\n",
      "69 4766-56f200c9-f3af-48a2-85ef-91b0ac6be831\n",
      "70 9013-74b719ff-5a65-417f-9ed2-c8dbb36b475d\n",
      "71 7203-f07d0eb7-7119-4631-9083-74ad61c3707a\n",
      "72 4550-93270430-9707-4876-8b9e-756f560937e5\n",
      "73 8437-00d09346-d1ac-49d9-a5c6-263f0d233d0b\n",
      "74 4022-76fbfdca-cb07-4bf6-af0d-fc75892c3165\n",
      "75 5396-a32e9af3-0c15-45d5-b679-ff991aafd503\n",
      "76 0472-a14dce3b-4133-4ef9-830a-978fc2619c5c\n",
      "77 2449-7abe7344-573d-486b-9bfd-416050e954a8\n",
      "78 0825-a689c272-ef0f-47a2-8173-d9c167d18ab9\n",
      "79 1667-317bc048-7f36-45c3-a407-ee1af16b87d5\n",
      "80 1390-7646b50e-8056-4713-97ae-5a635df1ad0e\n",
      "81 9286-d118f2bd-aee7-4151-a64f-e725b13f241a\n",
      "82 8919-a85568b5-d55a-4656-a983-ec0226bd98e9\n",
      "83 9344-ded5698d-92f4-4456-835c-c36955a3882e\n",
      "84 2533-d946c827-f0c9-47b7-8212-e25080714ebf\n",
      "85 7868-de1f17b2-7511-4f5b-b956-7853b6c4a093\n",
      "86 7341-a384a24d-63cb-4e4d-851f-ca98937d2eea\n",
      "87 7006-d603c2c1-67f7-4a1c-86a1-21a35fb490ea\n",
      "88 5828-e110a0bf-f7fb-4b39-a352-bad22fc1e43d\n",
      "89 5621-b4161a9d-3cc7-4bd2-949f-353e468777f1\n",
      "90 4370-58d47d75-9a9e-4e73-9de4-463a25fbc7c2\n",
      "91 4752-47b62ad3-1789-4d85-82bc-dc8e6a0e1d7b\n",
      "92 8823-c092516a-d027-4ae0-93ed-9d5191434398\n",
      "93 6285-f376468b-e9c7-4333-a1b7-8a2a7082ba24\n",
      "94 5112-5fa0c010-781e-499b-9e39-2f19152cbd82\n",
      "95 8773-d0187514-ac26-4729-873d-d70c0a274aad\n",
      "96 6857-0d34e2fe-34d3-46f3-934c-7ba8517bf76c\n",
      "97 3230-fb40aef6-8e23-4311-9c58-0a2e4b67712d\n",
      "98 3102-a4ff5c29-3ae1-460e-95dc-8756d6d6ea7d\n",
      "99 4139-c98ebd66-c9c1-42b5-ac39-a3984035fb14\n",
      "100 3362-3798da8e-35f1-4bac-a6a8-651dd44a79a8\n",
      "101 0199-82e89cc1-0247-43ca-b054-2c80cc6c7bae\n",
      "102 1572-1dcede25-2912-4724-a27a-e70e4baaedb4\n",
      "103 2072-37fc7826-ce26-4434-8020-81c97c5c4bc7\n",
      "104 4748-d707f4c1-2eeb-474b-8944-dee6d765c82f\n",
      "105 0789-cfdec253-71ba-461d-bcdb-51ca74e7bd23\n",
      "106 9830-fa8ea9a7-90ee-4682-a40c-78eb6f44e788\n",
      "107 0630-d4ce8b43-a2ce-446d-ba17-5d6c718187b0\n",
      "108 4288-dee45f9b-fa05-46aa-a276-6f7f15ab7215\n",
      "109 3304-f985fd52-c1f7-4e5e-9b3f-2108f35bd3e1\n",
      "110 8573-d4d247fc-730c-49c9-a696-50c3fb3aba36\n",
      "111 8910-80f603d4-459c-4bca-b59b-fe4b46a300a3\n",
      "112 2199-2723d848-a07f-4028-a06e-4c2d43bd2073\n",
      "113 7104-0f51ce5f-d0d4-466f-9a46-d7d6c38116db\n",
      "114 2088-650811ce-366b-4990-a310-1baec4333985\n",
      "115 8343-3040991f-0d16-47a9-a8c9-93b05ff69b75\n",
      "116 6518-aec4bfe5-7527-4684-bb60-6e1d9c9ac860\n",
      "117 6229-66d055b6-4964-40b7-a310-0cc1836305e5\n",
      "118 8517-6e00b801-f160-4bbf-a124-e81b876e86e9\n",
      "119 5948-3602375f-34f5-485a-956b-7701a1494008\n",
      "120 8816-a146d69b-d889-4b07-9827-de6160d7347a\n",
      "121 7360-37bf1e4b-2f76-441d-b1e9-3a573fcc2c05\n",
      "122 4238-e120e496-97b0-421b-ba98-749ba6fc5399\n",
      "123 5147-cdf0fbee-ca8f-49e2-aaee-7e96e96a6631\n",
      "124 9744-36bd3681-8f67-4a35-bcf7-164e1adf5444\n",
      "125 8906-71ff3d8f-1a66-4a3a-acad-73c06ad66114\n",
      "126 7837-11f9906e-4f87-4bb0-bb41-17d4aa14ed8f\n",
      "127 3297-72a423e6-4b49-4034-b207-884d99a69a1a\n",
      "128 6286-e0dfffcc-af23-4d54-81e6-97e3358085da\n",
      "129 5468-77b33ae9-b69a-43c0-a023-4cb7bde221d6\n",
      "130 4548-45f6b976-f859-45f6-b510-0f0efd34f9d7\n",
      "131 1464-24c4dcf0-e4e7-4ec1-89f5-4db177f6a9c6\n",
      "132 3027-1fef242c-95b2-4a8c-9525-3ad93aad4951\n",
      "133 1086-3c8f29ee-8110-49a9-82da-5fc853d9ce3b\n",
      "134 3864-c4e281dc-2cc1-42dd-9ccd-04d0e5c493f4\n",
      "135 5850-c95c26ff-a20d-4e91-bea1-dd38039ff666\n",
      "136 5743-601bfed2-b460-491b-82f6-02c06d403acc\n",
      "137 4824-3b1ebfa7-f803-4938-8da7-5351b16236e5\n",
      "138 0800-a49578a5-877e-410a-9f5d-c9543ca1f3e6\n",
      "139 6012-7d6530e1-3467-4960-9d62-809a67bbcdd6\n",
      "140 2536-a95389c6-a86f-410b-b75a-f13e4c623f2b\n",
      "141 4450-1ce7eb9d-bf19-4f35-a17f-f2e00a639e70\n",
      "142 5546-ae0b6f67-7df4-4b32-a89d-5add3f2734d3\n",
      "143 3897-4ce31cf7-2fbe-4188-a240-6e783aafe057\n",
      "144 0390-92488bca-4a80-40fa-9b03-232402fb7cf6\n",
      "145 6207-533c524d-5bd5-4cf4-9ff7-88524b32a8f9\n",
      "146 2040-3f8f34f8-47c8-4d93-b359-5a0cfe3811af\n",
      "147 8395-0a9e4343-b709-43f3-a502-5b8abc278c4f\n",
      "148 8224-888b6eb7-e5a2-4d74-b762-f05b8e96087b\n",
      "149 5867-18c45155-30b0-4fe2-9d12-3054ae8fea7d\n",
      "150 8833-27cd1dcb-764b-4ee5-ad26-a5583d518d44\n",
      "151 1940-005b4255-9b9d-417e-895a-d9740dff615e\n",
      "152 9604-637961fe-b832-4149-bee0-6472606a7fc7\n",
      "153 6335-c516d5b8-0ba5-4441-bb9a-5c19d0b026e4\n",
      "154 5088-6b70b6f1-b973-43d4-b876-e4a49c862a2c\n",
      "155 8057-e185bdf3-b34b-423b-b1aa-60e85138a7c6\n",
      "156 4062-b7977fc0-53a3-4171-b659-2cc6d3ebaa82\n",
      "157 7196-f5ffc72c-215a-408c-8b1c-db2267531181\n",
      "158 6359-44ac7c9a-3c87-4b0b-b5e5-a511065a9cf1\n",
      "159 5429-4c61a736-019c-4293-ad7c-c0aa6cc18cfd\n",
      "160 1708-38cf198f-6d9e-4e97-affc-ab1ef45f4dfb\n",
      "161 6284-adab43ba-eae2-47c0-8c2b-7244393c5b9f\n",
      "162 7111-9ccca621-18b5-486c-a83b-69cea8862df3\n",
      "163 6303-f3a5859c-5bf7-4119-8e30-8d97e843226d\n",
      "164 1251-3bf61585-a53a-462a-9343-ecc952448aba\n",
      "165 6544-f7117318-0e29-454b-b770-9b6c1be0475f\n",
      "166 5787-4e50e8ff-5f83-4354-a27e-26711a5bc4b2\n",
      "167 9681-4c2c3d4a-c935-4524-87e5-b9d66e0354ad\n",
      "168 1161-a51240f8-9636-4a1a-89e6-66590ba0a966\n",
      "169 3293-b07e89bc-3c13-49f0-8833-b9ce662e6562\n",
      "170 8203-597e07a2-217f-4bfc-964b-8146ebd75cfe\n",
      "171 7836-02f0377c-177c-44fb-950f-74a62f0fcfc6\n",
      "172 7380-c1b2ac18-a4e9-44df-8911-cff7268bc528\n",
      "173 7102-97664b96-14f7-4933-8ec1-492ff00690a6\n",
      "174 6053-0fdb57ae-bba2-42e9-8f70-50d6ca9dc0df\n",
      "175 9113-8f1cf8c0-cd0e-436c-b922-263f1ced6a63\n",
      "176 4306-7b157e27-eac7-4245-b8a2-ab8a119a34d1\n",
      "177 2517-6c9f9eae-0259-4af9-835e-404ce67acc68\n",
      "178 4784-35fcb404-02f0-47a1-838a-c87635f4ad7e\n",
      "179 5584-013f08b3-8089-4e46-be3c-a6fa5eb67e76\n",
      "180 7034-2ae1624f-074a-40d3-9e56-d3d9f680d91a\n",
      "181 5721-e390580a-67b7-4817-8007-4b90b6451b26\n",
      "182 0270-4d75e15d-154a-4b6f-8b84-9134d388a31a\n",
      "183 9640-4ffef66e-d0d4-4589-8bcf-c83718620348\n",
      "184 5353-92a03ebc-8651-4596-9071-4bce266ac315\n",
      "185 6529-a54551b4-0f13-4f39-8ab7-2063c866b63b\n",
      "186 2226-4e2c9e36-f941-494c-b355-dd71c6507b78\n",
      "187 9149-ba02c798-5e0d-4b88-b9c5-b8be3582d70f\n",
      "188 0284-1f0436b4-d0e8-41cf-9b71-e51ec6b8cc7e\n",
      "189 0218-696b4278-c40a-4e48-813b-5e5a7d07271c\n",
      "190 0494-ad305092-9054-4d13-878d-aa39b4b78e4d\n",
      "191 0145-093a381e-cd80-41f6-87a1-edb394d531e7\n",
      "192 7312-d8e3b2ca-a314-487b-873e-9dd5b634a0c1\n",
      "193 3196-ed833df6-fe03-483d-8cf3-a947027dc978\n",
      "194 9129-be881f85-e962-4f3a-9b77-f35e5a4b4968\n",
      "195 2947-c1a782e0-c387-4da1-a655-28f2f12207dc\n",
      "196 3942-3d3a6f20-66c4-453b-8b64-bd2e0e61d80e\n",
      "197 0194-f782b7c0-7d6c-4e5b-be3f-3fda5f961951\n",
      "198 1024-5061c065-5f1c-4116-96cc-3eb9a045a0cc\n",
      "199 2243-a78a0ecf-a24c-4227-a7f6-89e5e1fb15cd\n",
      "200 5282-3bfe2a57-29ed-416d-b94f-79ac46319221\n",
      "201 8707-43528d99-a4b9-4ab9-aec8-62eafdb85cdc\n",
      "202 0487-6a4aaec5-c5ed-45e7-9d1c-d89d5bd2a1a0\n",
      "203 3187-975b4121-8c0c-4a00-86fd-9c8d15bc0997\n",
      "204 9209-99dd98fb-fa97-46fd-9521-7fbafd34e067\n",
      "205 3456-7587c55a-49d0-4659-8639-098a28672fd9\n",
      "206 1801-3e06899b-6096-483c-b093-0ae1e243ae35\n",
      "207 6331-67319135-a2dd-4596-8595-9a18b907ee37\n",
      "208 8125-20e6b094-a700-4079-ae1e-a0e5924efe89\n",
      "209 4110-754cf8a0-5833-4f2f-9737-7ac63c556552\n",
      "210 8050-21124a5b-b3b6-4e11-8529-c6dda2bed560\n",
      "211 2963-1dcf6032-259c-4964-b17f-15e5d6c9ff6a\n",
      "212 9195-ca58c7af-784f-4bc3-90b4-2decf2289831\n",
      "213 2852-36ff1c43-e577-40ed-90a3-732c3816f16d\n",
      "214 5227-85065938-72f5-42b2-b806-d1d1396d4ce2\n",
      "215 3202-0d28ce0f-9a73-4cfb-b924-bd2539c99b9c\n",
      "216 6801-e44ce134-1c78-479f-87bc-4ece20bfdc2c\n",
      "217 0047-eec4bcb0-78c6-4800-bd70-0169b381bc3a\n",
      "218 5978-286e37d7-f3bf-4342-b868-d3540ff3f9f0\n",
      "219 0806-acc4a817-03ab-4bec-b6c9-6e355a246573\n",
      "220 9527-418d89bf-c8ad-4ec9-9734-cd63d4dc2c2f\n",
      "221 6494-aebb0b94-0d99-4fa6-8a05-61393777968b\n",
      "222 4537-263218e9-11a9-4460-bca9-136365d482d8\n",
      "223 8705-7f3f72d9-b818-40d0-b078-04b5fd9a8bdb\n",
      "224 9309-0db7c221-b872-4868-9a79-19ef44adc19c\n",
      "225 5734-638d3be9-c389-444d-848b-d07ef22ddb36\n",
      "226 0229-cdee63b2-1468-4aa9-b25c-28aa911fe908\n",
      "227 6627-b970651f-c791-4b00-b839-814186f9a97b\n",
      "228 4950-2ffa4907-fcb5-44f6-839c-63bac4addaab\n",
      "229 9573-123f4b9e-6967-4447-8b68-515c6d2b6bb0\n",
      "230 4063-2310df55-7062-4de1-b5e0-1141fc185163\n",
      "231 5767-5490240b-2d64-4b3b-9090-6313e8d72963\n",
      "232 3222-478cd45e-cc6e-4622-9bee-7942eeaee86f\n",
      "233 4620-51276523-e3b7-4dd1-af47-a6ee09f3807d\n",
      "234 7781-32a0aa1b-ec0b-4359-8d64-09292a25f980\n",
      "235 4784-714a7483-b84a-4790-8570-a80b515e19c9\n",
      "236 2507-c0e64655-0d4e-442d-b8b2-c63e85bd6260\n",
      "237 5282-826a4c89-de2d-4c1b-a792-efea768efe29\n",
      "238 0504-27f64d7f-6e2f-40b5-afa3-696e8aac264d\n",
      "239 4900-8cb124a7-dd18-42ec-a1ce-4044c1c4515a\n",
      "240 2345-a4a4fb09-435d-482a-8212-e8f40fcc0e24\n",
      "241 2223-a003af29-808e-4749-ad07-b60021092a87\n",
      "242 3922-4638581f-cad1-4bcf-924b-f22d86f4886b\n",
      "243 1657-fe93a5a3-69a5-404a-9b30-6251037b1284\n",
      "244 8396-841320c6-37c9-4428-bdc8-e5329c1112cb\n",
      "245 7752-35abfcdd-9584-45d7-9050-fb56a0f8c575\n",
      "246 6693-fe3a9741-e317-4386-904d-840883e6d237\n",
      "247 8989-2833318e-e47d-41f9-a466-34e2f4107277\n",
      "248 6787-ff6c79b1-bac0-4923-b0d2-7dd059491bb1\n",
      "249 2644-a723dad3-8d30-4876-a88f-fefe8cdb7206\n",
      "250 1138-d276f0c8-55e2-4462-a0a5-9f6f4134977b\n",
      "251 8001-142eafba-23fd-4457-a703-7b76904be91f\n",
      "252 3807-89e3ecf6-d95b-4d90-b85a-f6496158bdb9\n",
      "253 1564-3c51f444-55b9-4497-ad80-314a9423c906\n",
      "254 9177-73b656f1-933d-427f-ad7d-eda8466ede89\n",
      "255 4907-a08e925a-20fc-4e0e-8866-0d2396aa5a37\n",
      "256 1219-0467838a-3d3b-40b2-9f72-10cfc34c3ffd\n",
      "257 7496-0a870bca-fa57-45f3-bfa7-78835a70356d\n",
      "258 3587-12c70af4-0c7e-4d7a-8c42-b0dfb3198e43\n",
      "259 7376-1cdf64d1-86bd-455c-a123-1262ffc2aaf9\n",
      "260 2648-e443d07d-d3f0-4c06-a213-9a36f36cfcca\n",
      "261 1328-d3eb7f9b-d047-436b-b4ce-35b4a47a3fdb\n",
      "262 5955-64abb43d-8692-4098-8b19-8463198f0a38\n",
      "263 3656-bfae96fd-fcee-45d7-ad04-a296948cd736\n",
      "264 8365-8232d075-543f-41c8-961d-53f00d0ee15b\n",
      "265 1830-ab870bc0-f415-447b-8310-9b6dc58511e3\n",
      "266 9060-5c6d27be-cdf4-4094-b48d-aea7cec1ef14\n",
      "267 4306-29eb183e-673e-4fc8-b264-4ea6c66cc0aa\n",
      "268 4567-650cad66-90fb-4cea-855a-c6b96daac74a\n",
      "269 6788-b470782f-b4b2-40ca-b918-d1c75359d01d\n",
      "270 3187-70467fa2-ff6f-4d85-8647-ac4d4afc22e4\n",
      "271 7516-15b321c0-44f0-406a-bffa-a008829c0456\n",
      "272 4851-ef4fa36f-f60f-4e28-a1e7-582e1dd05cb7\n",
      "273 9645-7ea790d2-0bc6-4914-8e0a-a8d8fdf3ece2\n",
      "274 9191-8cd7d8db-3785-4866-8e1d-9e11e7c0faca\n",
      "275 4858-18798a87-28f8-414b-a818-f7be59cd8660\n",
      "276 1265-1c29a6e7-0124-4ee1-8c24-b3142bf7bacd\n",
      "277 1272-0a4b4c21-7e17-4245-b521-cef83826f950\n",
      "278 3924-9935c36d-2bf5-4588-bc22-d2a7b5debf86\n",
      "279 4473-78592364-f80d-4ff8-a666-a78384331826\n",
      "280 0458-89d7e53c-71d2-4508-8969-8a19ae0eca99\n",
      "281 4045-076b900f-3e5f-446e-90b5-d980ecdba155\n",
      "282 5461-76ca08ec-1ff9-4921-804d-027187114660\n",
      "283 9107-f49f357a-76d2-4f4b-8d9f-f4b8d3a3c603\n",
      "284 9095-fbfd8d1f-0f16-4ec6-8b5f-61b9f20ef297\n",
      "285 5341-07e1b39a-0da5-4ffd-8c21-d094af03277e\n",
      "286 3247-6c61d6d7-1418-421f-a71e-4cdcf73bb575\n",
      "287 7787-57aeacb7-0530-417e-8580-c744f894b5a5\n",
      "288 6620-978e9731-72e5-4c0b-b1fb-1f2ad9cfaf2c\n",
      "289 6635-81c164d0-437d-4a71-baf6-0139c9e031d0\n",
      "290 0493-8e76c937-5682-4d2a-a611-8eb871b00fa4\n",
      "291 0478-dc8686eb-0acc-49fd-8d2e-fd868c145bc7\n",
      "292 4242-6ab856f5-9f0c-421a-8292-c70bf086f826\n",
      "293 1054-4f6fe132-11c2-4f65-b7e5-c6970a57e4fb\n",
      "294 6630-fa454969-ac27-436b-98c1-8d19c22ce2c7\n",
      "295 3720-5364f896-fd18-4ca8-964e-4213a7fcf6ff\n",
      "296 2946-184d763d-9038-4b36-91ce-936d5d171db5\n",
      "297 5911-d506921e-ecd9-4870-b139-11e11014df1f\n",
      "298 6322-9f8d9cd2-8fd1-4d1a-a7d0-74269a63e38c\n",
      "299 3256-9c4c25ea-6223-42f2-b1d8-ef0259d65f22\n",
      "300 2647-98287817-9545-47b4-a6b5-a6ed16e96375\n",
      "301 0741-ebb1cd1e-75c6-4c67-a457-2ee346031f5d\n"
     ]
    }
   ],
   "source": [
    "## get for iterationName = 'chairs1k'\n",
    "\n",
    "########## get list of games\n",
    "a = coll.find({'$and': [{'iterationName':'chairs1k'},\n",
    "                    {'eventType':'chatMessage'},\n",
    "                    {'time':{'$gt':1507674252874}}\n",
    "                   ]}).sort('time')\n",
    "games = a.distinct('gameid')\n",
    "\n",
    "chairA = []\n",
    "chairB = []\n",
    "chairC = []\n",
    "intendedName = []\n",
    "clickedObj = []\n",
    "chatMessage = []\n",
    "message_counter = []\n",
    "gameid = []\n",
    "click_time = []\n",
    "trialNum = []\n",
    "condition = []\n",
    "correct = []\n",
    "chat_time = []\n",
    "chat_RT = []\n",
    "role = []\n",
    "\n",
    "for i,game in enumerate(games):    \n",
    "    print str(i) + ' ' + game\n",
    "    clicks = coll.find({'$and': [{'iterationName':'chairs1k'},\n",
    "                        {'eventType':'clickedObj'},\n",
    "                        {'time':{'$gt':1507674252874}},\n",
    "                        {'gameid': game}\n",
    "                       ]}).sort('trialNum')  \n",
    "    \n",
    "    for click in clicks:\n",
    "        \n",
    "        currTrial = click['trialNum']        \n",
    "        \n",
    "        chats = coll.find({'$and': [{'iterationName':'chairs1k'},\n",
    "                            {'eventType':'chatMessage'},\n",
    "                            {'time':{'$gt':1507674252874}},\n",
    "                            {'gameid': game},\n",
    "                            {'trialNum': currTrial}\n",
    "                           ]}).sort('time')        \n",
    "        \n",
    "        for chat in chats:\n",
    "            chat_time.append(chat['time'])\n",
    "            chat_RT.append(chat['reactionTime'])\n",
    "            chatMessage.append(chat['text'])\n",
    "            role.append(chat['role'])\n",
    "            intendedName.append(chat['intendedName'])\n",
    "            \n",
    "            clickedObj.append(click['clickedName'])\n",
    "            trialNum.append(click['trialNum'])        \n",
    "            chairA.append(click['object1Name'])\n",
    "            chairB.append(click['object2Name'])\n",
    "            chairC.append(click['object3Name'])  \n",
    "            click_time.append(click['time'])\n",
    "            gameid.append(click['gameid'])\n",
    "            condition.append(click['condition'])\n",
    "            correct.append(click['correct'])        "
   ]
  },
  {
   "cell_type": "code",
   "execution_count": 125,
   "metadata": {
    "collapsed": false
   },
   "outputs": [
    {
     "name": "stdout",
     "output_type": "stream",
     "text": [
      "0 2551-fd7b0242-2b80-4c21-aee2-167bc8a200eb\n",
      "1 0863-e494aa56-6a8f-4f18-ad32-3d56e432ce71\n",
      "2 5880-e1831df0-e961-42c3-aaa7-b8da288dd709\n",
      "3 1394-c4407a39-2b41-4c02-8a51-7b428d50542b\n",
      "4 9286-ad1e9bdf-48c9-4e6d-966d-e3205976c548\n",
      "5 0083-bdba7897-0473-4441-972e-4ca5ee60c164\n",
      "6 4549-4e7af371-13ef-4705-8ca5-d63dbe20757c\n",
      "7 8737-833f2a14-96ce-4f1d-925a-650a613b2e11\n",
      "8 5279-e8f27184-ae41-4c57-8399-4f69b70c490d\n",
      "9 2903-da33c2cb-435e-4170-873e-e085968010b1\n",
      "10 0823-1fec6040-a8ae-456e-ba5e-0f01526745f7\n",
      "11 7264-f5fb0802-16ac-4732-93ba-0cc2c065a227\n",
      "12 0373-c0b583b5-65c8-4f92-9646-dbbb313835d7\n"
     ]
    }
   ],
   "source": [
    "########## get list of close-only-games\n",
    "a = coll.find({'$and': [{'iterationName':'close_only'},\n",
    "                    {'eventType':'chatMessage'},\n",
    "                    {'time':{'$gt':1507674252874}}\n",
    "                   ]}).sort('time')\n",
    "games = a.distinct('gameid')\n",
    "\n",
    "for i,game in enumerate(games):    \n",
    "    print str(i) + ' ' + game\n",
    "    clicks = coll.find({'$and': [{'iterationName':'close_only'},\n",
    "                        {'eventType':'clickedObj'},\n",
    "                        {'time':{'$gt':1507674252874}},\n",
    "                        {'gameid': game}\n",
    "                       ]}).sort('trialNum')  \n",
    "    \n",
    "    for click in clicks:\n",
    "        \n",
    "        currTrial = click['trialNum']        \n",
    "        \n",
    "        chats = coll.find({'$and': [{'iterationName':'close_only'},\n",
    "                            {'eventType':'chatMessage'},\n",
    "                            {'time':{'$gt':1507674252874}},\n",
    "                            {'gameid': game},\n",
    "                            {'trialNum': currTrial}\n",
    "                           ]}).sort('time')        \n",
    "        \n",
    "        for chat in chats:\n",
    "            chat_time.append(chat['time'])\n",
    "            chat_RT.append(chat['reactionTime'])\n",
    "            chatMessage.append(chat['text'])\n",
    "            role.append(chat['role'])\n",
    "            intendedName.append(chat['intendedName'])\n",
    "            \n",
    "            clickedObj.append(click['clickedName'])\n",
    "            trialNum.append(click['trialNum'])        \n",
    "            chairA.append(click['object1Name'])\n",
    "            chairB.append(click['object2Name'])\n",
    "            chairC.append(click['object3Name'])  \n",
    "            click_time.append(click['time'])\n",
    "            gameid.append(click['gameid'])\n",
    "            condition.append(click['condition'])\n",
    "            correct.append(click['correct']) "
   ]
  },
  {
   "cell_type": "code",
   "execution_count": null,
   "metadata": {
    "collapsed": true
   },
   "outputs": [],
   "source": []
  },
  {
   "cell_type": "code",
   "execution_count": 126,
   "metadata": {
    "collapsed": true
   },
   "outputs": [],
   "source": [
    "import pandas as pd"
   ]
  },
  {
   "cell_type": "code",
   "execution_count": 127,
   "metadata": {
    "collapsed": false
   },
   "outputs": [],
   "source": [
    "X = pd.DataFrame([chairA,\n",
    "                chairB,\n",
    "                chairC,\n",
    "                intendedName,\n",
    "                clickedObj,\n",
    "                chatMessage,\n",
    "                gameid,\n",
    "                click_time,\n",
    "                trialNum,\n",
    "                condition,\n",
    "                correct,\n",
    "                chat_time,\n",
    "                chat_RT,\n",
    "                role])\n",
    "\n",
    "X = X.transpose()\n",
    "X.columns = ['chair_a','chair_b','chair_c','target_chair','selected_chair','text','gameid',\n",
    "            'click_time','trial_num','context_condition','correct','chat_time','chat_RT', 'communication_role']"
   ]
  },
  {
   "cell_type": "code",
   "execution_count": 128,
   "metadata": {
    "collapsed": false
   },
   "outputs": [],
   "source": [
    "X.to_csv('chairs1k_group_data.csv',encoding='utf-8')"
   ]
  },
  {
   "cell_type": "code",
   "execution_count": 131,
   "metadata": {
    "collapsed": false
   },
   "outputs": [
    {
     "data": {
      "text/plain": [
       "(20884, 14)"
      ]
     },
     "execution_count": 131,
     "metadata": {},
     "output_type": "execute_result"
    }
   ],
   "source": [
    "X.shape"
   ]
  },
  {
   "cell_type": "code",
   "execution_count": null,
   "metadata": {
    "collapsed": false
   },
   "outputs": [],
   "source": []
  },
  {
   "cell_type": "code",
   "execution_count": null,
   "metadata": {
    "collapsed": false
   },
   "outputs": [],
   "source": []
  },
  {
   "cell_type": "markdown",
   "metadata": {},
   "source": [
    "### Sanity checks on data organization"
   ]
  },
  {
   "cell_type": "code",
   "execution_count": 132,
   "metadata": {
    "collapsed": false
   },
   "outputs": [],
   "source": [
    "## the three chairs ID's should be unique\n",
    "from collections import defaultdict\n",
    "all_triplets = defaultdict(list)\n",
    "for i,d in X.iterrows():\n",
    "\n",
    "    tokens_1 = d['chair_a'].split('_')\n",
    "    tokens_2 = d['chair_b'].split('_')\n",
    "    tokens_3 = d['chair_c'].split('_')\n",
    "    \n",
    "    triplets = []        \n",
    "    triplets.append(tokens_1[-1])    \n",
    "    triplets.append(tokens_2[-1])\n",
    "    triplets.append(tokens_3[-1])\n",
    "    assert(len(np.unique(triplets)) == 3)\n",
    "    \n",
    "    assert(d['context_condition'] == tokens_1[0] == tokens_2[0] == tokens_3[0])\n",
    "    \n",
    "    all_triplets[(d['context_condition'], d['target_chair'])].append(np.array(triplets, dtype=object))\n",
    "    \n",
    "#     assert d['clickedObj'] in  [d['chairsA'], d['chairsB'], d['chairsC']]\n",
    "\n",
    "#     assert(d['target_chair'] in  [d['chairsA'], d['chairsB'], d['chairsC']])\n",
    "    \n",
    "#     if d['intendedName'] == d['clickedObj']:\n",
    "#         assert(d['correct'])\n",
    "#     else:\n",
    "#         assert(not d['correct'])\n",
    "    \n",
    "    ## check the total number of chair ID's\n",
    "\n",
    "    ## check the total number of unique triplets (where target identity matters AND where it does not matter)\n",
    "\n",
    "    \n"
   ]
  },
  {
   "cell_type": "code",
   "execution_count": null,
   "metadata": {
    "collapsed": false
   },
   "outputs": [],
   "source": []
  },
  {
   "cell_type": "code",
   "execution_count": null,
   "metadata": {
    "collapsed": false
   },
   "outputs": [],
   "source": []
  },
  {
   "cell_type": "code",
   "execution_count": 133,
   "metadata": {
    "collapsed": false
   },
   "outputs": [],
   "source": [
    "c_close = 0 \n",
    "c_far = 0\n",
    "close_triplets = []\n",
    "far_triplets = []\n",
    "for l in all_triplets.keys():\n",
    "    \n",
    "#     a  = all_triplets[l][0].split('_')[-1]\n",
    "#     b = all_triplets[l][1].split('_')[-1]\n",
    "#     c = all_triplets[l][2].split('_')[-1]\n",
    "    \n",
    "    if l[0] == 'close':\n",
    "        c_close +=1\n",
    "        close_triplets.append(np.sort(all_triplets[l]))\n",
    "    elif l[0] == 'far':\n",
    "        c_far += 1\n",
    "        far_triplets.append(np.sort(all_triplets[l]))\n",
    "    else:\n",
    "        assert(False)\n",
    "        "
   ]
  },
  {
   "cell_type": "code",
   "execution_count": 134,
   "metadata": {
    "collapsed": false
   },
   "outputs": [],
   "source": [
    "far_triplets = np.vstack(close_triplets)"
   ]
  },
  {
   "cell_type": "code",
   "execution_count": 135,
   "metadata": {
    "collapsed": false
   },
   "outputs": [
    {
     "data": {
      "text/plain": [
       "1951"
      ]
     },
     "execution_count": 135,
     "metadata": {},
     "output_type": "execute_result"
    }
   ],
   "source": [
    "len(np.unique(far_triplets))"
   ]
  },
  {
   "cell_type": "code",
   "execution_count": null,
   "metadata": {
    "collapsed": false
   },
   "outputs": [],
   "source": []
  },
  {
   "cell_type": "code",
   "execution_count": null,
   "metadata": {
    "collapsed": true
   },
   "outputs": [],
   "source": []
  }
 ],
 "metadata": {
  "kernelspec": {
   "display_name": "Python 2",
   "language": "python",
   "name": "python2"
  },
  "language_info": {
   "codemirror_mode": {
    "name": "ipython",
    "version": 2
   },
   "file_extension": ".py",
   "mimetype": "text/x-python",
   "name": "python",
   "nbconvert_exporter": "python",
   "pygments_lexer": "ipython2",
   "version": "2.7.12"
  }
 },
 "nbformat": 4,
 "nbformat_minor": 0
}
