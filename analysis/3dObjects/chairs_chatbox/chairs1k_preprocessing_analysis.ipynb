{
 "cells": [
  {
   "cell_type": "code",
   "execution_count": null,
   "metadata": {
    "collapsed": false
   },
   "outputs": [],
   "source": [
    "import numpy as np\n",
    "import pymongo as pm"
   ]
  },
  {
   "cell_type": "markdown",
   "metadata": {},
   "source": [
    "### connect to db"
   ]
  },
  {
   "cell_type": "code",
   "execution_count": null,
   "metadata": {
    "collapsed": false
   },
   "outputs": [],
   "source": [
    "# set vars \n",
    "auth = pd.read_csv('auth.txt', header = None) # this auth.txt file contains the password for the sketchloop user\n",
    "pswd = auth.values[0][0]\n",
    "user = 'sketchloop'\n",
    "host = 'rxdhawkins.me' ## cocolab ip address\n",
    "\n",
    "# have to fix this to be able to analyze from local\n",
    "import pymongo as pm\n",
    "conn = pm.MongoClient('mongodb://sketchloop:' + pswd + '@127.0.0.1')\n",
    "db = conn['3dObjects']\n",
    "coll = db['chairs_chatbox']"
   ]
  },
  {
   "cell_type": "markdown",
   "metadata": {},
   "source": [
    "### basic details about dataset\n"
   ]
  },
  {
   "cell_type": "code",
   "execution_count": null,
   "metadata": {
    "collapsed": false
   },
   "outputs": [],
   "source": [
    "###### how many total after we started the chairs1k production sample\n",
    "wave1 = coll.find({'$and': [{'iterationName':'close_only'},{'eventType':'clickedObj'},{'time':{'$gt':1507674252874}}]}).sort('intendedName')\n",
    "wave2 = coll.find({'$and': [{'iterationName':'chairs1k'},{'eventType':'clickedObj'},{'time':{'$gt':1507674252874}}]}).sort('intendedName')\n",
    "print str(wave1.count() + wave2.count()) + ' chair trials in dataset.'"
   ]
  },
  {
   "cell_type": "markdown",
   "metadata": {},
   "source": [
    "### loop through all games and build group data csv"
   ]
  },
  {
   "cell_type": "code",
   "execution_count": null,
   "metadata": {
    "collapsed": false
   },
   "outputs": [],
   "source": [
    "## TODO: encoding for worker ID so that we can always map from that anonymized ID to the actual AMT worker ID"
   ]
  },
  {
   "cell_type": "code",
   "execution_count": null,
   "metadata": {
    "collapsed": false
   },
   "outputs": [],
   "source": [
    "## get for iterationName = 'chairs1k'\n",
    "\n",
    "########## get list of games\n",
    "a = coll.find({'$and': [{'iterationName':'chairs1k'},\n",
    "                    {'eventType':'chatMessage'},\n",
    "                    {'time':{'$gt':1507674252874}}\n",
    "                   ]}).sort('time')\n",
    "games = a.distinct('gameid')\n",
    "\n",
    "chairA = []\n",
    "chairB = []\n",
    "chairC = []\n",
    "intendedName = []\n",
    "clickedObj = []\n",
    "chatMessage = []\n",
    "message_counter = []\n",
    "gameid = []\n",
    "click_time = []\n",
    "trialNum = []\n",
    "condition = []\n",
    "correct = []\n",
    "chat_time = []\n",
    "chat_RT = []\n",
    "role = []\n",
    "\n",
    "for i,game in enumerate(games):    \n",
    "    print str(i) + ' ' + game\n",
    "    clicks = coll.find({'$and': [{'iterationName':'chairs1k'},\n",
    "                        {'eventType':'clickedObj'},\n",
    "                        {'time':{'$gt':1507674252874}},\n",
    "                        {'gameid': game}\n",
    "                       ]}).sort('trialNum')  \n",
    "    \n",
    "    for click in clicks:\n",
    "        \n",
    "        currTrial = click['trialNum']        \n",
    "        \n",
    "        chats = coll.find({'$and': [{'iterationName':'chairs1k'},\n",
    "                            {'eventType':'chatMessage'},\n",
    "                            {'time':{'$gt':1507674252874}},\n",
    "                            {'gameid': game},\n",
    "                            {'trialNum': currTrial}\n",
    "                           ]}).sort('time')        \n",
    "        \n",
    "        for chat in chats:\n",
    "            chat_time.append(chat['time'])\n",
    "            chat_RT.append(chat['reactionTime'])\n",
    "            chatMessage.append(chat['text'])\n",
    "            role.append(chat['role'])\n",
    "            intendedName.append(chat['intendedName'])\n",
    "            \n",
    "            clickedObj.append(click['clickedName'])\n",
    "            trialNum.append(click['trialNum'])        \n",
    "            chairA.append(click['object1Name'])\n",
    "            chairB.append(click['object2Name'])\n",
    "            chairC.append(click['object3Name'])  \n",
    "            click_time.append(click['time'])\n",
    "            gameid.append(click['gameid'])\n",
    "            condition.append(click['condition'])\n",
    "            correct.append(click['correct'])        "
   ]
  },
  {
   "cell_type": "code",
   "execution_count": null,
   "metadata": {
    "collapsed": false
   },
   "outputs": [],
   "source": [
    "########## get list of close-only-games\n",
    "a = coll.find({'$and': [{'iterationName':'close_only'},\n",
    "                    {'eventType':'chatMessage'},\n",
    "                    {'time':{'$gt':1507674252874}}\n",
    "                   ]}).sort('time')\n",
    "games = a.distinct('gameid')\n",
    "\n",
    "for i,game in enumerate(games):    \n",
    "    print str(i) + ' ' + game\n",
    "    clicks = coll.find({'$and': [{'iterationName':'close_only'},\n",
    "                        {'eventType':'clickedObj'},\n",
    "                        {'time':{'$gt':1507674252874}},\n",
    "                        {'gameid': game}\n",
    "                       ]}).sort('trialNum')  \n",
    "    \n",
    "    for click in clicks:\n",
    "        \n",
    "        currTrial = click['trialNum']        \n",
    "        \n",
    "        chats = coll.find({'$and': [{'iterationName':'close_only'},\n",
    "                            {'eventType':'chatMessage'},\n",
    "                            {'time':{'$gt':1507674252874}},\n",
    "                            {'gameid': game},\n",
    "                            {'trialNum': currTrial}\n",
    "                           ]}).sort('time')        \n",
    "        \n",
    "        for chat in chats:\n",
    "            chat_time.append(chat['time'])\n",
    "            chat_RT.append(chat['reactionTime'])\n",
    "            chatMessage.append(chat['text'])\n",
    "            role.append(chat['role'])\n",
    "            intendedName.append(chat['intendedName'])\n",
    "            \n",
    "            clickedObj.append(click['clickedName'])\n",
    "            trialNum.append(click['trialNum'])        \n",
    "            chairA.append(click['object1Name'])\n",
    "            chairB.append(click['object2Name'])\n",
    "            chairC.append(click['object3Name'])  \n",
    "            click_time.append(click['time'])\n",
    "            gameid.append(click['gameid'])\n",
    "            condition.append(click['condition'])\n",
    "            correct.append(click['correct']) "
   ]
  },
  {
   "cell_type": "code",
   "execution_count": null,
   "metadata": {
    "collapsed": false
   },
   "outputs": [],
   "source": []
  },
  {
   "cell_type": "code",
   "execution_count": null,
   "metadata": {
    "collapsed": false
   },
   "outputs": [],
   "source": [
    "import pandas as pd"
   ]
  },
  {
   "cell_type": "code",
   "execution_count": null,
   "metadata": {
    "collapsed": false
   },
   "outputs": [],
   "source": [
    "X = pd.DataFrame([chairA,\n",
    "                chairB,\n",
    "                chairC,\n",
    "                intendedName,\n",
    "                clickedObj,\n",
    "                chatMessage,\n",
    "                gameid,\n",
    "                click_time,\n",
    "                trialNum,\n",
    "                condition,\n",
    "                correct,\n",
    "                chat_time,\n",
    "                chat_RT,\n",
    "                role])\n",
    "\n",
    "X = X.transpose()\n",
    "X.columns = ['chair_a','chair_b','chair_c','target_chair','selected_chair','text','gameid',\n",
    "            'click_time','trial_num','context_condition','correct','chat_time','chat_RT', 'communication_role']"
   ]
  },
  {
   "cell_type": "code",
   "execution_count": null,
   "metadata": {
    "collapsed": false
   },
   "outputs": [],
   "source": [
    "X.to_csv('chairs1k_group_data.csv',encoding='utf-8')"
   ]
  },
  {
   "cell_type": "code",
   "execution_count": null,
   "metadata": {
    "collapsed": false
   },
   "outputs": [],
   "source": [
    "X.shape"
   ]
  },
  {
   "cell_type": "code",
   "execution_count": null,
   "metadata": {
    "collapsed": false
   },
   "outputs": [],
   "source": []
  },
  {
   "cell_type": "code",
   "execution_count": null,
   "metadata": {
    "collapsed": false
   },
   "outputs": [],
   "source": []
  },
  {
   "cell_type": "markdown",
   "metadata": {},
   "source": [
    "### Sanity checks on data organization"
   ]
  },
  {
   "cell_type": "code",
   "execution_count": null,
   "metadata": {
    "collapsed": false
   },
   "outputs": [],
   "source": [
    "## the three chairs ID's should be unique\n",
    "from collections import defaultdict\n",
    "all_triplets = defaultdict(list)\n",
    "for i,d in X.iterrows():\n",
    "\n",
    "    tokens_1 = d['chair_a'].split('_')\n",
    "    tokens_2 = d['chair_b'].split('_')\n",
    "    tokens_3 = d['chair_c'].split('_')\n",
    "    \n",
    "    triplets = []        \n",
    "    triplets.append(tokens_1[-1])    \n",
    "    triplets.append(tokens_2[-1])\n",
    "    triplets.append(tokens_3[-1])\n",
    "    assert(len(np.unique(triplets)) == 3)\n",
    "    \n",
    "    assert(d['context_condition'] == tokens_1[0] == tokens_2[0] == tokens_3[0])\n",
    "    \n",
    "    all_triplets[(d['context_condition'], d['target_chair'])].append(np.array(triplets, dtype=object))\n",
    "    \n",
    "#     assert d['clickedObj'] in  [d['chairsA'], d['chairsB'], d['chairsC']]\n",
    "\n",
    "#     assert(d['target_chair'] in  [d['chairsA'], d['chairsB'], d['chairsC']])\n",
    "    \n",
    "#     if d['intendedName'] == d['clickedObj']:\n",
    "#         assert(d['correct'])\n",
    "#     else:\n",
    "#         assert(not d['correct'])\n",
    "    \n",
    "    ## check the total number of chair ID's\n",
    "\n",
    "    ## check the total number of unique triplets (where target identity matters AND where it does not matter)\n",
    "\n",
    "    \n"
   ]
  },
  {
   "cell_type": "code",
   "execution_count": null,
   "metadata": {
    "collapsed": false
   },
   "outputs": [],
   "source": []
  },
  {
   "cell_type": "code",
   "execution_count": null,
   "metadata": {
    "collapsed": false
   },
   "outputs": [],
   "source": []
  },
  {
   "cell_type": "code",
   "execution_count": null,
   "metadata": {
    "collapsed": false
   },
   "outputs": [],
   "source": [
    "c_close = 0 \n",
    "c_far = 0\n",
    "close_triplets = []\n",
    "far_triplets = []\n",
    "for l in all_triplets.keys():\n",
    "    \n",
    "#     a  = all_triplets[l][0].split('_')[-1]\n",
    "#     b = all_triplets[l][1].split('_')[-1]\n",
    "#     c = all_triplets[l][2].split('_')[-1]\n",
    "    \n",
    "    if l[0] == 'close':\n",
    "        c_close +=1\n",
    "        close_triplets.append(np.sort(all_triplets[l]))\n",
    "    elif l[0] == 'far':\n",
    "        c_far += 1\n",
    "        far_triplets.append(np.sort(all_triplets[l]))\n",
    "    else:\n",
    "        assert(False)\n",
    "        "
   ]
  },
  {
   "cell_type": "code",
   "execution_count": null,
   "metadata": {
    "collapsed": false
   },
   "outputs": [],
   "source": [
    "far_triplets = np.vstack(close_triplets)"
   ]
  },
  {
   "cell_type": "code",
   "execution_count": null,
   "metadata": {
    "collapsed": false
   },
   "outputs": [],
   "source": [
    "len(np.unique(far_triplets))"
   ]
  },
  {
   "cell_type": "code",
   "execution_count": null,
   "metadata": {
    "collapsed": false
   },
   "outputs": [],
   "source": []
  },
  {
   "cell_type": "code",
   "execution_count": null,
   "metadata": {
    "collapsed": false
   },
   "outputs": [],
   "source": []
  }
 ],
 "metadata": {
  "kernelspec": {
   "display_name": "Python 2",
   "language": "python",
   "name": "python2"
  },
  "language_info": {
   "codemirror_mode": {
    "name": "ipython",
    "version": 2
   },
   "file_extension": ".py",
   "mimetype": "text/x-python",
   "name": "python",
   "nbconvert_exporter": "python",
   "pygments_lexer": "ipython2",
   "version": "2.7.12"
  }
 },
 "nbformat": 4,
 "nbformat_minor": 0
}
