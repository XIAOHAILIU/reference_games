{
 "cells": [
  {
   "cell_type": "code",
   "execution_count": 262,
   "metadata": {
    "collapsed": false
   },
   "outputs": [],
   "source": [
    "import os\n",
    "import urllib, cStringIO\n",
    "\n",
    "import matplotlib\n",
    "from matplotlib import pylab, mlab, pyplot\n",
    "%matplotlib inline\n",
    "from IPython.core.pylabtools import figsize, getfigs\n",
    "plt = pyplot\n",
    "import seaborn as sns\n",
    "sns.set_context('poster')\n",
    "sns.set_style('white')\n",
    "\n",
    "import numpy as np\n",
    "from __future__ import division\n",
    "import scipy.stats as stats\n",
    "import tabular as tb\n",
    "import pandas as pd\n",
    "import json\n",
    "import re\n",
    "\n",
    "\n",
    "\n",
    "from PIL import Image\n",
    "import base64\n",
    "\n",
    "from helpers import *"
   ]
  },
  {
   "cell_type": "code",
   "execution_count": 312,
   "metadata": {
    "collapsed": true
   },
   "outputs": [],
   "source": [
    "# directory & file hierarchy\n",
    "analysis_dir = '/Users/judithfan/reference_games/analysis/3dObjects/sketchpad_repeated'\n",
    "data_dir = '/Users/judithfan/reference_games/data/3dObjects/sketchpad_repeated'\n",
    "exp_dir = '/Users/judithfan/reference_games/experiments/3dObjects/sketchpad_repeated'\n"
   ]
  },
  {
   "cell_type": "code",
   "execution_count": 124,
   "metadata": {
    "collapsed": false
   },
   "outputs": [],
   "source": [
    "import pymongo as pm\n",
    "conn = pm.MongoClient(port=27017)\n",
    "db = conn['3dObjects']\n",
    "coll = db['sketchpad_repeated']"
   ]
  },
  {
   "cell_type": "code",
   "execution_count": 125,
   "metadata": {
    "collapsed": false
   },
   "outputs": [
    {
     "name": "stdout",
     "output_type": "stream",
     "text": [
      "1190 stroke records in the database.\n",
      "175 clickedObj records in the database.\n"
     ]
    }
   ],
   "source": [
    "S = coll.find({ '$and': [{'expid':'pilot2'}, {'dataType': 'stroke'}]}).sort('time')\n",
    "C = coll.find({ '$and': [{'expid':'pilot2'}, {'dataType': 'clickedObj'}]}).sort('time')\n",
    "print str(S.count()) + ' stroke records in the database.'\n",
    "print str(C.count()) + ' clickedObj records in the database.'"
   ]
  },
  {
   "cell_type": "code",
   "execution_count": 54,
   "metadata": {
    "collapsed": false
   },
   "outputs": [
    {
     "name": "stdout",
     "output_type": "stream",
     "text": [
      "['3132-f3e52817-8077-48b5-bb6e-76b8f34bbe3b', '0621-d8ddacd3-5173-4b1f-9cbd-003e0323b4c8', '0747-aa69bdf2-6b19-413a-a5f3-43bf65645a5e', '3462-0bdc5ad9-844a-42e7-b11a-d2f7e52e1d1f', '4341-7077986e-13c1-4022-a169-e6406fde06fd']\n"
     ]
    }
   ],
   "source": [
    "# remember to filter out test records that \n",
    "jefan = ['A1MMCS8S8CTWKU','A1MMCS8S8CTWKV']\n",
    "unique_gameids = coll.find({ '$and': [{'expid':'pilot2'}, {'dataType': 'clickedObj'}]}).sort('time').distinct('gameid')\n",
    "print map(str,unique_gameids)"
   ]
  },
  {
   "cell_type": "code",
   "execution_count": 37,
   "metadata": {
    "collapsed": false
   },
   "outputs": [
    {
     "name": "stdout",
     "output_type": "stream",
     "text": [
      "1876\n"
     ]
    }
   ],
   "source": [
    "S = coll.find({ '$and': [{'shiftKeyUsed':0}, {'dataType': 'stroke'}]}).sort('time')\n",
    "print S.count()"
   ]
  },
  {
   "cell_type": "code",
   "execution_count": 324,
   "metadata": {
    "collapsed": false
   },
   "outputs": [],
   "source": [
    "workers = [i for i in coll.find({'expid':'pilot2'}).distinct('workerId') if i not in jefan]"
   ]
  },
  {
   "cell_type": "code",
   "execution_count": null,
   "metadata": {
    "collapsed": false
   },
   "outputs": [],
   "source": []
  },
  {
   "cell_type": "code",
   "execution_count": 323,
   "metadata": {
    "collapsed": false
   },
   "outputs": [
    {
     "name": "stdout",
     "output_type": "stream",
     "text": [
      "0 A194 13 clickedObj\n",
      "1 AHGQ 56 stroke\n",
      "1 A33F 56 clickedObj\n",
      "2 AVD6 7 stroke\n",
      "2 A3JT 6 clickedObj\n",
      "3 A1CU 56 clickedObj\n",
      "4 AMDP 56 stroke\n",
      "4 ATMQ 56 clickedObj\n",
      "5 AGRK 56 stroke\n",
      "5 A3O5 56 clickedObj\n",
      "6 A39Q 1 stroke\n"
     ]
    }
   ],
   "source": [
    "workers = [i for i in coll.find({'expid':'pilot2'}).distinct('workerId') if i not in jefan]\n",
    "gameid = []\n",
    "valid_gameids = []\n",
    "for w in workers:\n",
    "    gameid.append(coll.find({ '$and': [{'expid':'pilot2'}, {'workerId': w}]}).distinct('gameid')[0])\n",
    "mg = coll.find({'expid': 'pilot'}).distinct('gameid')\n",
    "for g in mg:\n",
    "    gameid.append(g) # append gameids from 'pilot' (the first one)   \n",
    "gameids = np.unique(gameid)\n",
    "for i,g in enumerate(gameids):\n",
    "    W = coll.find({ '$and': [{'gameid': g}]}).distinct('workerId')\n",
    "    for w in W:\n",
    "        X = coll.find({ '$and': [{'workerId': w}, {'gameid': g}]}).distinct('trialNum')\n",
    "        dataType = coll.find({ '$and': [{'workerId': w}]}).distinct('dataType')\n",
    "        print i, w[:4], len(X), str(dataType[0])\n",
    "        if (str(dataType[0])=='clickedObj') & (len(X)==56):\n",
    "            valid_gameids.append(g)\n"
   ]
  },
  {
   "cell_type": "code",
   "execution_count": 104,
   "metadata": {
    "collapsed": false
   },
   "outputs": [],
   "source": [
    "g = valid_gameids[0]\n"
   ]
  },
  {
   "cell_type": "code",
   "execution_count": 112,
   "metadata": {
    "collapsed": false
   },
   "outputs": [],
   "source": [
    "import re\n",
    "S = coll.find({ '$and': [{'gameid': g}, {'dataType': 'stroke'}]}).sort('time')\n",
    "for s in S:\n",
    "    string = s['svgStr']\n",
    "    num_curves = len([m.start() for m in re.finditer('c', string)])\n",
    "#     print num_curves"
   ]
  },
  {
   "cell_type": "code",
   "execution_count": 228,
   "metadata": {
    "collapsed": false
   },
   "outputs": [
    {
     "name": "stdout",
     "output_type": "stream",
     "text": [
      "Analyzing game:  0621-d8ddacd3-5173-4b1f-9cbd-003e0323b4c8\n",
      "Analyzing game:  1017-a0229889-00a4-4179-b678-8851674813c2\n",
      "Analyzing game:  3462-0bdc5ad9-844a-42e7-b11a-d2f7e52e1d1f\n",
      "Analyzing game:  4341-7077986e-13c1-4022-a169-e6406fde06fd\n"
     ]
    }
   ],
   "source": [
    "TrialNum = []\n",
    "GameID = []\n",
    "Condition = []\n",
    "Target = []\n",
    "Distractor1 = []\n",
    "Distractor2 = []\n",
    "Distractor3 = []\n",
    "Outcome = []\n",
    "Response = []\n",
    "Epoch = []\n",
    "numStrokes = []\n",
    "drawDuration = [] # in seconds\n",
    "svgStringLength = [] # sum of svg string for whole sketch\n",
    "svgStringLengthPerStroke = [] # svg string length per stroke\n",
    "numCurvesPerSketch = [] # number of curve segments per sketch\n",
    "numCurvesPerStroke = [] # mean number of curve segments per stroke\n",
    "svgStringStd = [] # std of svg string length across strokes for this sketch\n",
    "Outcome = []\n",
    "Repeated = []\n",
    "\n",
    "for g in valid_gameids:\n",
    "    print 'Analyzing game: ', g\n",
    "\n",
    "    X = coll.find({ '$and': [{'gameid': g}, {'dataType': 'clickedObj'}]}).sort('time')\n",
    "    Y = coll.find({ '$and': [{'gameid': g}, {'dataType': 'stroke'}]}).sort('time')\n",
    "\n",
    "    for t in X:\n",
    "        targetname = t['intendedName']\n",
    "        Epoch.append(t['epoch'])\n",
    "    #     distractors = [t['object2Name'],t['object3Name'],t['object4Name']]\n",
    "    #     full_list = [t['intendedTarget'],t['object2Name'],t['object3Name'],t['object4Name']] \n",
    "        y = coll.find({ '$and': [{'gameid': g}, {'dataType': 'stroke'}, {'trialNum': t['trialNum']}]}).sort('time')\n",
    "        ns = y.count()\n",
    "        numStrokes.append(ns)\n",
    "        drawDuration.append((y.__getitem__(ns-1)['time'] - y.__getitem__(0)['time'])/1000) # in seconds\n",
    "    #     svgs = Y[Y['trialNum']==t['trialNum']]['svg']\n",
    "        ls = [len(_y['svgStr']) for _y in y]\n",
    "        svgStringLength.append(reduce(lambda x, y: x + y, ls))\n",
    "        y = coll.find({ '$and': [{'gameid': g}, {'dataType': 'stroke'}, {'trialNum': t['trialNum']}]}).sort('time')\n",
    "        num_curves = [len([m.start() for m in re.finditer('c', _y['svgStr'])]) for _y in y]\n",
    "        numCurvesPerSketch.append(reduce(lambda x, y: x + y, num_curves))\n",
    "        numCurvesPerStroke.append(reduce(lambda x, y: x + y, num_curves)/ns)\n",
    "        svgStringLengthPerStroke.append(reduce(lambda x, y: x + y, ls)/ns)\n",
    "        svgStringStd.append(np.std(ls))\n",
    "    #     ## aggregate game metadata\n",
    "        TrialNum.append(t['trialNum'])\n",
    "        GameID.append(t['gameid'])        \n",
    "        Target.append(targetname)\n",
    "        Condition.append(t['condition'])\n",
    "        Response.append(t['clickedName'])\n",
    "        Outcome.append(t['correct'])\n",
    "        Repeated.append(t['repeated'])\n",
    "    #     Distractor1.append(distractors[0])\n",
    "    #     Distractor2.append(distractors[1])\n",
    "    #     Distractor3.append(distractors[2])  \n",
    "    \n",
    "\n"
   ]
  },
  {
   "cell_type": "code",
   "execution_count": null,
   "metadata": {
    "collapsed": false
   },
   "outputs": [],
   "source": []
  },
  {
   "cell_type": "code",
   "execution_count": 235,
   "metadata": {
    "collapsed": false
   },
   "outputs": [],
   "source": [
    "GameID,TrialNum,Condition, Target, Epoch, Repeated, drawDuration, Outcome, Response, numStrokes, svgStringLength, svgStringLengthPerStroke, svgStringStd = map(np.array, \\\n",
    "[GameID,TrialNum,Condition, Target, Epoch, Repeated, drawDuration,Outcome, Response, numStrokes, svgStringLength, svgStringLengthPerStroke, svgStringStd])    \n",
    "\n",
    "Epoch = map(int,Epoch)\n",
    "\n",
    "D = tb.tabarray(columns = [GameID,TrialNum,Condition, Target, Epoch, Repeated, drawDuration,Outcome, Response, numStrokes, svgStringLength, svgStringLengthPerStroke, svgStringStd],\n",
    "                names = ['gameID','trialNum','condition', 'target', 'epoch', 'repeated', 'drawDuration','outcome', 'response', 'numStrokes', 'svgStringLength', 'svgStringLengthPerStroke', 'svgStringStd'])"
   ]
  },
  {
   "cell_type": "code",
   "execution_count": 236,
   "metadata": {
    "collapsed": false
   },
   "outputs": [],
   "source": [
    "# get summary statistics\n",
    "all_games = np.unique(D['gameID'])\n",
    "further_strokes = []\n",
    "closer_strokes = []\n",
    "further_svgLength = []\n",
    "closer_svgLength = []\n",
    "further_svgStd = []\n",
    "closer_svgStd = []\n",
    "further_svgLengthPS = []\n",
    "closer_svgLengthPS = []\n",
    "further_drawDuration = []\n",
    "closer_drawDuration = []\n",
    "further_accuracy = []\n",
    "closer_accuracy = []\n",
    "for game in all_games:    \n",
    "    further_strokes.append(D[(D['gameID']== game) & (D['condition'] == 'further')]['numStrokes'].mean())\n",
    "    closer_strokes.append(D[(D['gameID']== game) & (D['condition'] == 'closer')]['numStrokes'].mean())\n",
    "    further_svgLength.append(D[(D['gameID']== game) & (D['condition'] == 'further')]['svgStringLength'].mean())\n",
    "    closer_svgLength.append(D[(D['gameID']== game) & (D['condition'] == 'closer')]['svgStringLength'].mean())\n",
    "    further_svgStd.append(D[(D['gameID']== game) & (D['condition'] == 'further')]['svgStringStd'].mean())\n",
    "    closer_svgStd.append(D[(D['gameID']== game) & (D['condition'] == 'closer')]['svgStringStd'].mean())    \n",
    "    further_svgLengthPS.append(D[(D['gameID']== game) & (D['condition'] == 'further')]['svgStringLengthPerStroke'].mean())\n",
    "    closer_svgLengthPS.append(D[(D['gameID']== game) & (D['condition'] == 'closer')]['svgStringLengthPerStroke'].mean())\n",
    "    further_drawDuration.append(D[(D['gameID']== game) & (D['condition'] == 'further')]['drawDuration'].mean())\n",
    "    closer_drawDuration.append(D[(D['gameID']== game) & (D['condition'] == 'closer')]['drawDuration'].mean())\n",
    "    further_accuracy.append(D[(D['gameID']== game) & (D['condition'] == 'further')]['outcome'].mean())\n",
    "    closer_accuracy.append(D[(D['gameID']== game) & (D['condition'] == 'closer')]['outcome'].mean())\n",
    "    \n",
    "further_strokes, closer_strokes, further_svgLength, closer_svgLength, \\\n",
    "further_svgStd, closer_svgStd, further_svgLengthPS, closer_svgLengthPS, \\\n",
    "further_drawDuration, closer_drawDuration, further_accuracy, closer_accuracy = map(np.array, \\\n",
    "[further_strokes, closer_strokes, further_svgLength, closer_svgLength,\\\n",
    " further_svgStd, closer_svgStd, further_svgLengthPS, closer_svgLengthPS, \\\n",
    "further_drawDuration, closer_drawDuration, further_accuracy, closer_accuracy])"
   ]
  },
  {
   "cell_type": "code",
   "execution_count": 232,
   "metadata": {
    "collapsed": false
   },
   "outputs": [
    {
     "name": "stdout",
     "output_type": "stream",
     "text": [
      "6.13392857143 7.72321428571\n",
      "1072.05357143 1773.92857143\n",
      "166.173554125 246.145213099\n",
      "220.160168476 261.555430069\n",
      "13.0206785714 25.1064017857\n",
      "1.0 0.866071428571\n"
     ]
    }
   ],
   "source": [
    "print further_strokes.mean(), closer_strokes.mean()\n",
    "print further_svgLength.mean(), closer_svgLength.mean()\n",
    "print further_svgStd.mean(), closer_svgStd.mean()\n",
    "print further_svgLengthPS.mean(), closer_svgLengthPS.mean()\n",
    "print further_drawDuration.mean(), closer_drawDuration.mean()\n",
    "print further_accuracy.mean(), closer_accuracy.mean()"
   ]
  },
  {
   "cell_type": "code",
   "execution_count": 233,
   "metadata": {
    "collapsed": false
   },
   "outputs": [
    {
     "name": "stdout",
     "output_type": "stream",
     "text": [
      "Saving figure to 'plots/svg_summary_scatter.pdf'... Done\n"
     ]
    },
    {
     "data": {
      "image/png": "[encoded data removed]",
      "text/plain": [
       "<matplotlib.figure.Figure at 0x113484fd0>"
      ]
     },
     "metadata": {},
     "output_type": "display_data"
    }
   ],
   "source": [
    "fig = plt.figure(figsize=(10,10))\n",
    "plt.subplot(2,2,1)\n",
    "lb = 0\n",
    "ub = 16\n",
    "plt.plot([lb,ub],[lb,ub],'k--')\n",
    "plt.scatter(closer_strokes,further_strokes,64,(0.8,0.4,0.4))\n",
    "plt.xlim([lb,ub])\n",
    "plt.ylim([lb,ub])\n",
    "plt.title('number of strokes')\n",
    "plt.xlabel('closer')\n",
    "plt.ylabel('further')\n",
    "plt.subplot(2,2,2)\n",
    "lb = 0\n",
    "ub = 3000\n",
    "plt.plot([lb,ub],[lb,ub],'k--')\n",
    "plt.scatter(closer_svgLength,further_svgLength,64,(0.8,0.4,0.4))\n",
    "plt.xlim([lb,ub])\n",
    "plt.ylim([lb,ub])\n",
    "plt.tight_layout()\n",
    "plt.title('svg string length')\n",
    "plt.xlabel('closer')\n",
    "plt.ylabel('further')\n",
    "plt.subplot(2,2,3)\n",
    "lb = 0\n",
    "ub = 300\n",
    "plt.plot([lb,ub],[lb,ub],'k--')\n",
    "plt.scatter(closer_svgStd,further_svgStd,64,(0.8,0.4,0.4))\n",
    "plt.xlim([lb,ub])\n",
    "plt.ylim([lb,ub])\n",
    "plt.title('stroke variability')\n",
    "plt.xlabel('closer')\n",
    "plt.ylabel('further')\n",
    "plt.subplot(2,2,4)\n",
    "lb = 0\n",
    "ub = 300\n",
    "plt.plot([lb,ub],[lb,ub],'k--')\n",
    "plt.scatter(closer_svgLengthPS,further_svgLengthPS,64,(0.8,0.4,0.4))\n",
    "plt.xlim([lb,ub])\n",
    "plt.ylim([lb,ub])\n",
    "plt.tight_layout()\n",
    "plt.title('svg length per stroke')\n",
    "plt.xlabel('closer')\n",
    "plt.ylabel('further')\n",
    "save_out = 1\n",
    "if save_out:\n",
    "    helpers.save('plots/svg_summary_scatter', ext='pdf', close=False, verbose=True)"
   ]
  },
  {
   "cell_type": "code",
   "execution_count": 222,
   "metadata": {
    "collapsed": false
   },
   "outputs": [
    {
     "name": "stdout",
     "output_type": "stream",
     "text": [
      "Saving figure to 'plots/performance_summary_scatter.pdf'... Done\n"
     ]
    },
    {
     "data": {
      "image/png": "[encoded data removed]",
      "text/plain": [
       "<matplotlib.figure.Figure at 0x1131bc8d0>"
      ]
     },
     "metadata": {},
     "output_type": "display_data"
    }
   ],
   "source": [
    "fig = plt.figure(figsize=(8,4))\n",
    "lb = 0\n",
    "ub = 1.03\n",
    "plt.subplot(1,2,1)\n",
    "plt.plot([lb,ub],[lb,ub],'k--')\n",
    "plt.scatter(closer_accuracy,further_accuracy,64,(0.8,0.4,0.4))\n",
    "plt.xlim([lb,ub])\n",
    "plt.ylim([lb,ub])\n",
    "plt.title('accuracy')\n",
    "plt.xlabel('closer')\n",
    "plt.ylabel('further')\n",
    "plt.subplot(1,2,2)\n",
    "lb = 0\n",
    "ub = 36\n",
    "plt.plot([lb,ub],[lb,ub],'k--')\n",
    "plt.scatter(closer_drawDuration,further_drawDuration,64,(0.75,0.3,0.2))\n",
    "plt.xlim([lb,ub])\n",
    "plt.ylim([lb,ub])\n",
    "plt.title('draw duration')\n",
    "plt.xlabel('closer')\n",
    "plt.ylabel('further')\n",
    "plt.tight_layout()\n",
    "save_out = 1\n",
    "if save_out:\n",
    "    helpers.save('plots/performance_summary_scatter', ext='pdf', close=False, verbose=True)"
   ]
  },
  {
   "cell_type": "code",
   "execution_count": 271,
   "metadata": {
    "collapsed": false
   },
   "outputs": [],
   "source": []
  },
  {
   "cell_type": "code",
   "execution_count": null,
   "metadata": {
    "collapsed": false
   },
   "outputs": [],
   "source": []
  },
  {
   "cell_type": "code",
   "execution_count": 238,
   "metadata": {
    "collapsed": false
   },
   "outputs": [],
   "source": []
  },
  {
   "cell_type": "code",
   "execution_count": null,
   "metadata": {
    "collapsed": false
   },
   "outputs": [],
   "source": []
  },
  {
   "cell_type": "code",
   "execution_count": null,
   "metadata": {
    "collapsed": true
   },
   "outputs": [],
   "source": []
  },
  {
   "cell_type": "code",
   "execution_count": null,
   "metadata": {
    "collapsed": true
   },
   "outputs": [],
   "source": []
  },
  {
   "cell_type": "code",
   "execution_count": null,
   "metadata": {
    "collapsed": false
   },
   "outputs": [],
   "source": []
  },
  {
   "cell_type": "code",
   "execution_count": 274,
   "metadata": {
    "collapsed": true
   },
   "outputs": [],
   "source": [
    "# convert D to pandas dataframe\n",
    "D = pd.DataFrame(D)\n",
    "\n",
    "# combine information about repeated and distance conditions into trialType\n",
    "trialType = []\n",
    "for g in zip(D['repeated'],D['condition']):\n",
    "    trialType.append(g[0] + '_' + g[1])\n",
    "D = D.assign(trialType=pd.Series(trialType).values)\n",
    "\n",
    "# add png to D dataframe\n",
    "png = []\n",
    "for g in valid_gameids:\n",
    "    X = coll.find({ '$and': [{'gameid': g}, {'dataType': 'clickedObj'}]}).sort('time')\n",
    "    Y = coll.find({ '$and': [{'gameid': g}, {'dataType': 'stroke'}]}).sort('time')\n",
    "    # print out sketches from all trials from this game\n",
    "    for t in X: \n",
    "        png.append(t['pngString'])\n",
    "D = D.assign(png=pd.Series(png).values)"
   ]
  },
  {
   "cell_type": "code",
   "execution_count": 264,
   "metadata": {
    "collapsed": false
   },
   "outputs": [
    {
     "data": {
      "image/png": "[encoded data removed]",
      "text/plain": [
       "<matplotlib.figure.Figure at 0x11340dfd0>"
      ]
     },
     "metadata": {},
     "output_type": "display_data"
    }
   ],
   "source": [
    "# plot relationship between accuracy and activations\n",
    "\n",
    "labels = D['trialType']\n",
    "colors = sns.color_palette(\"hls\",n_colors=4)\n",
    "color_dict = dict(zip(list(np.unique(labels)),colors))\n",
    "df = pd.DataFrame(dict(x=D['epoch'], y=D['svgStringLength'], label=labels))\n",
    "groups = df.groupby('label')\n",
    "fig, ax = plt.subplots(figsize=(8,8))\n",
    "ax.margins(0.05)\n",
    "for name, group in groups:\n",
    "    ax.plot(group.x, group.y, marker='o', linestyle='', ms=12, label=name, alpha=0.5,color=color_dict[name])    \n",
    "    ax = sns.regplot(group.x, group.y,robust=True, ci=None, marker='o',color=color_dict[name])      \n",
    "ax.legend(bbox_to_anchor=(1.05, 1), loc=2, borderaxespad=0.)\n",
    "plt.xlabel('epoch')\n",
    "plt.ylabel('svg string length')\n",
    "plt.title('')\n",
    "save('plots/svg_string_length_by_epoch','png',close=False,verbose=False)\n",
    "plt.show()"
   ]
  },
  {
   "cell_type": "code",
   "execution_count": 252,
   "metadata": {
    "collapsed": false
   },
   "outputs": [],
   "source": [
    "for p in png:    \n",
    "    imgData = p\n",
    "    filestr = base64.b64decode(imgData)\n",
    "    fname = 'sketch.png'\n",
    "    with open(fname, \"wb\") as fh:\n",
    "        fh.write(imgData.decode('base64'))\n",
    "    textsize = 16\n",
    "    # first plot the target\n",
    "    im = Image.open(fname)\n",
    "    fig = plt.figure(figsize=(8,4))\n",
    "    p = plt.subplot(2,4,1)\n",
    "    plt.imshow(im)\n",
    "    sns.set_style('white')\n",
    "    k = p.get_xaxis().set_ticklabels([])\n",
    "    k = p.get_yaxis().set_ticklabels([])\n",
    "    k = p.get_xaxis().set_ticks([])\n",
    "    k = p.get_yaxis().set_ticks([])"
   ]
  },
  {
   "cell_type": "code",
   "execution_count": 293,
   "metadata": {
    "collapsed": false
   },
   "outputs": [
    {
     "name": "stdout",
     "output_type": "stream",
     "text": [
      "repeated_further 0 0621-d8ddacd3-5173-4b1f-9cbd-003e0323b4c8 brown\n",
      "once_closer 0 0621-d8ddacd3-5173-4b1f-9cbd-003e0323b4c8 inlay\n",
      "repeated_closer 0 0621-d8ddacd3-5173-4b1f-9cbd-003e0323b4c8 nightingale\n",
      "repeated_closer 0 0621-d8ddacd3-5173-4b1f-9cbd-003e0323b4c8 tomtit\n",
      "repeated_further 0 0621-d8ddacd3-5173-4b1f-9cbd-003e0323b4c8 pug\n",
      "repeated_closer 0 0621-d8ddacd3-5173-4b1f-9cbd-003e0323b4c8 pigeon\n",
      "once_further 0 0621-d8ddacd3-5173-4b1f-9cbd-003e0323b4c8 straight\n",
      "once_further 0 0621-d8ddacd3-5173-4b1f-9cbd-003e0323b4c8 bluejay\n",
      "once_further 0 0621-d8ddacd3-5173-4b1f-9cbd-003e0323b4c8 white\n",
      "repeated_further 0 0621-d8ddacd3-5173-4b1f-9cbd-003e0323b4c8 waiting\n",
      "repeated_closer 0 0621-d8ddacd3-5173-4b1f-9cbd-003e0323b4c8 cuckoo\n",
      "once_closer 0 0621-d8ddacd3-5173-4b1f-9cbd-003e0323b4c8 bluesedan\n",
      "once_closer 0 0621-d8ddacd3-5173-4b1f-9cbd-003e0323b4c8 leather\n",
      "repeated_further 0 0621-d8ddacd3-5173-4b1f-9cbd-003e0323b4c8 sparrow\n",
      "repeated_closer 1 0621-d8ddacd3-5173-4b1f-9cbd-003e0323b4c8 tomtit\n",
      "once_further 1 0621-d8ddacd3-5173-4b1f-9cbd-003e0323b4c8 bluesport\n",
      "once_further 1 0621-d8ddacd3-5173-4b1f-9cbd-003e0323b4c8 crow\n",
      "once_closer 1 0621-d8ddacd3-5173-4b1f-9cbd-003e0323b4c8 bullmastiff\n",
      "repeated_closer 1 0621-d8ddacd3-5173-4b1f-9cbd-003e0323b4c8 pigeon\n",
      "repeated_further 1 0621-d8ddacd3-5173-4b1f-9cbd-003e0323b4c8 sparrow\n",
      "repeated_further 1 0621-d8ddacd3-5173-4b1f-9cbd-003e0323b4c8 brown\n",
      "once_closer 1 0621-d8ddacd3-5173-4b1f-9cbd-003e0323b4c8 hatchback\n",
      "repeated_further 1 0621-d8ddacd3-5173-4b1f-9cbd-003e0323b4c8 waiting\n",
      "repeated_closer 1 0621-d8ddacd3-5173-4b1f-9cbd-003e0323b4c8 nightingale\n",
      "once_further 1 0621-d8ddacd3-5173-4b1f-9cbd-003e0323b4c8 squat\n",
      "repeated_further 1 0621-d8ddacd3-5173-4b1f-9cbd-003e0323b4c8 pug\n",
      "repeated_closer 1 0621-d8ddacd3-5173-4b1f-9cbd-003e0323b4c8 cuckoo\n",
      "once_closer 1 0621-d8ddacd3-5173-4b1f-9cbd-003e0323b4c8 goldenretriever\n",
      "repeated_closer 2 0621-d8ddacd3-5173-4b1f-9cbd-003e0323b4c8 tomtit\n",
      "once_closer 2 0621-d8ddacd3-5173-4b1f-9cbd-003e0323b4c8 beetle\n",
      "repeated_further 2 0621-d8ddacd3-5173-4b1f-9cbd-003e0323b4c8 waiting\n",
      "repeated_closer 2 0621-d8ddacd3-5173-4b1f-9cbd-003e0323b4c8 cuckoo\n",
      "repeated_further 2 0621-d8ddacd3-5173-4b1f-9cbd-003e0323b4c8 sparrow\n",
      "repeated_further 2 0621-d8ddacd3-5173-4b1f-9cbd-003e0323b4c8 brown\n",
      "once_further 2 0621-d8ddacd3-5173-4b1f-9cbd-003e0323b4c8 robin\n",
      "repeated_closer 2 0621-d8ddacd3-5173-4b1f-9cbd-003e0323b4c8 pigeon\n",
      "once_closer 2 0621-d8ddacd3-5173-4b1f-9cbd-003e0323b4c8 knob\n",
      "once_further 2 0621-d8ddacd3-5173-4b1f-9cbd-003e0323b4c8 sling\n",
      "repeated_further 2 0621-d8ddacd3-5173-4b1f-9cbd-003e0323b4c8 pug\n",
      "once_further 2 0621-d8ddacd3-5173-4b1f-9cbd-003e0323b4c8 bloodhound\n",
      "repeated_closer 2 0621-d8ddacd3-5173-4b1f-9cbd-003e0323b4c8 nightingale\n",
      "once_closer 2 0621-d8ddacd3-5173-4b1f-9cbd-003e0323b4c8 redantique\n",
      "repeated_further 3 0621-d8ddacd3-5173-4b1f-9cbd-003e0323b4c8 sparrow\n",
      "once_closer 3 0621-d8ddacd3-5173-4b1f-9cbd-003e0323b4c8 basset\n",
      "once_further 3 0621-d8ddacd3-5173-4b1f-9cbd-003e0323b4c8 redsport\n",
      "once_closer 3 0621-d8ddacd3-5173-4b1f-9cbd-003e0323b4c8 doberman\n",
      "repeated_closer 3 0621-d8ddacd3-5173-4b1f-9cbd-003e0323b4c8 cuckoo\n",
      "repeated_closer 3 0621-d8ddacd3-5173-4b1f-9cbd-003e0323b4c8 nightingale\n",
      "once_further 3 0621-d8ddacd3-5173-4b1f-9cbd-003e0323b4c8 weimaraner\n",
      "repeated_further 3 0621-d8ddacd3-5173-4b1f-9cbd-003e0323b4c8 waiting\n",
      "once_closer 3 0621-d8ddacd3-5173-4b1f-9cbd-003e0323b4c8 woven\n",
      "once_further 3 0621-d8ddacd3-5173-4b1f-9cbd-003e0323b4c8 chihuahua\n",
      "repeated_further 3 0621-d8ddacd3-5173-4b1f-9cbd-003e0323b4c8 brown\n",
      "repeated_further 3 0621-d8ddacd3-5173-4b1f-9cbd-003e0323b4c8 pug\n",
      "repeated_closer 3 0621-d8ddacd3-5173-4b1f-9cbd-003e0323b4c8 pigeon\n",
      "repeated_closer 3 0621-d8ddacd3-5173-4b1f-9cbd-003e0323b4c8 tomtit\n",
      "repeated_closer 0 1017-a0229889-00a4-4179-b678-8851674813c2 leather\n",
      "once_further 0 1017-a0229889-00a4-4179-b678-8851674813c2 white\n",
      "repeated_further 0 1017-a0229889-00a4-4179-b678-8851674813c2 robin\n",
      "once_further 0 1017-a0229889-00a4-4179-b678-8851674813c2 goldenretriever\n",
      "repeated_further 0 1017-a0229889-00a4-4179-b678-8851674813c2 weimaraner\n",
      "repeated_closer 0 1017-a0229889-00a4-4179-b678-8851674813c2 inlay\n",
      "once_closer 0 1017-a0229889-00a4-4179-b678-8851674813c2 nightingale\n",
      "once_closer 0 1017-a0229889-00a4-4179-b678-8851674813c2 hatchback\n",
      "repeated_closer 0 1017-a0229889-00a4-4179-b678-8851674813c2 waiting\n",
      "once_further 0 1017-a0229889-00a4-4179-b678-8851674813c2 cuckoo\n",
      "repeated_closer 0 1017-a0229889-00a4-4179-b678-8851674813c2 knob\n",
      "once_closer 0 1017-a0229889-00a4-4179-b678-8851674813c2 sparrow\n",
      "repeated_further 0 1017-a0229889-00a4-4179-b678-8851674813c2 bluesport\n",
      "repeated_further 0 1017-a0229889-00a4-4179-b678-8851674813c2 woven\n",
      "once_closer 1 1017-a0229889-00a4-4179-b678-8851674813c2 redantique\n",
      "repeated_further 1 1017-a0229889-00a4-4179-b678-8851674813c2 woven\n",
      "repeated_closer 1 1017-a0229889-00a4-4179-b678-8851674813c2 inlay\n",
      "once_closer 1 1017-a0229889-00a4-4179-b678-8851674813c2 bloodhound\n",
      "repeated_closer 1 1017-a0229889-00a4-4179-b678-8851674813c2 leather\n",
      "once_further 1 1017-a0229889-00a4-4179-b678-8851674813c2 straight\n",
      "repeated_further 1 1017-a0229889-00a4-4179-b678-8851674813c2 bluesport\n",
      "repeated_closer 1 1017-a0229889-00a4-4179-b678-8851674813c2 waiting\n",
      "repeated_further 1 1017-a0229889-00a4-4179-b678-8851674813c2 robin\n",
      "once_closer 1 1017-a0229889-00a4-4179-b678-8851674813c2 bluejay\n",
      "repeated_closer 1 1017-a0229889-00a4-4179-b678-8851674813c2 knob\n",
      "repeated_further 1 1017-a0229889-00a4-4179-b678-8851674813c2 weimaraner\n",
      "once_further 1 1017-a0229889-00a4-4179-b678-8851674813c2 chihuahua\n",
      "once_further 1 1017-a0229889-00a4-4179-b678-8851674813c2 sling\n",
      "once_closer 2 1017-a0229889-00a4-4179-b678-8851674813c2 brown\n",
      "repeated_closer 2 1017-a0229889-00a4-4179-b678-8851674813c2 knob\n",
      "repeated_further 2 1017-a0229889-00a4-4179-b678-8851674813c2 woven\n",
      "repeated_closer 2 1017-a0229889-00a4-4179-b678-8851674813c2 leather\n",
      "once_further 2 1017-a0229889-00a4-4179-b678-8851674813c2 bluesedan\n",
      "repeated_closer 2 1017-a0229889-00a4-4179-b678-8851674813c2 waiting\n",
      "once_closer 2 1017-a0229889-00a4-4179-b678-8851674813c2 bullmastiff\n",
      "once_further 2 1017-a0229889-00a4-4179-b678-8851674813c2 crow\n",
      "repeated_closer 2 1017-a0229889-00a4-4179-b678-8851674813c2 inlay\n",
      "once_closer 2 1017-a0229889-00a4-4179-b678-8851674813c2 doberman\n",
      "repeated_further 2 1017-a0229889-00a4-4179-b678-8851674813c2 weimaraner\n",
      "repeated_further 2 1017-a0229889-00a4-4179-b678-8851674813c2 robin\n",
      "repeated_further 2 1017-a0229889-00a4-4179-b678-8851674813c2 bluesport\n",
      "once_further 2 1017-a0229889-00a4-4179-b678-8851674813c2 redsport\n",
      "repeated_further 3 1017-a0229889-00a4-4179-b678-8851674813c2 robin\n",
      "once_closer 3 1017-a0229889-00a4-4179-b678-8851674813c2 basset\n",
      "once_closer 3 1017-a0229889-00a4-4179-b678-8851674813c2 beetle\n",
      "repeated_closer 3 1017-a0229889-00a4-4179-b678-8851674813c2 knob\n",
      "once_further 3 1017-a0229889-00a4-4179-b678-8851674813c2 pug\n",
      "once_further 3 1017-a0229889-00a4-4179-b678-8851674813c2 pigeon\n",
      "repeated_further 3 1017-a0229889-00a4-4179-b678-8851674813c2 woven\n",
      "once_further 3 1017-a0229889-00a4-4179-b678-8851674813c2 squat\n",
      "repeated_further 3 1017-a0229889-00a4-4179-b678-8851674813c2 weimaraner\n",
      "repeated_closer 3 1017-a0229889-00a4-4179-b678-8851674813c2 leather\n",
      "once_closer 3 1017-a0229889-00a4-4179-b678-8851674813c2 tomtit\n",
      "repeated_closer 3 1017-a0229889-00a4-4179-b678-8851674813c2 waiting\n",
      "repeated_further 3 1017-a0229889-00a4-4179-b678-8851674813c2 bluesport\n",
      "repeated_closer 3 1017-a0229889-00a4-4179-b678-8851674813c2 inlay\n",
      "once_further 0 3462-0bdc5ad9-844a-42e7-b11a-d2f7e52e1d1f brown\n",
      "once_closer 0 3462-0bdc5ad9-844a-42e7-b11a-d2f7e52e1d1f weimaraner\n",
      "repeated_closer 0 3462-0bdc5ad9-844a-42e7-b11a-d2f7e52e1d1f cuckoo\n",
      "repeated_closer 0 3462-0bdc5ad9-844a-42e7-b11a-d2f7e52e1d1f nightingale\n",
      "once_further 0 3462-0bdc5ad9-844a-42e7-b11a-d2f7e52e1d1f crow\n",
      "once_further 0 3462-0bdc5ad9-844a-42e7-b11a-d2f7e52e1d1f squat\n",
      "repeated_further 0 3462-0bdc5ad9-844a-42e7-b11a-d2f7e52e1d1f goldenretriever\n",
      "once_closer 0 3462-0bdc5ad9-844a-42e7-b11a-d2f7e52e1d1f white\n",
      "repeated_closer 0 3462-0bdc5ad9-844a-42e7-b11a-d2f7e52e1d1f bluejay\n",
      "repeated_further 0 3462-0bdc5ad9-844a-42e7-b11a-d2f7e52e1d1f sparrow\n",
      "repeated_closer 0 3462-0bdc5ad9-844a-42e7-b11a-d2f7e52e1d1f pigeon\n",
      "repeated_further 0 3462-0bdc5ad9-844a-42e7-b11a-d2f7e52e1d1f hatchback\n",
      "once_closer 0 3462-0bdc5ad9-844a-42e7-b11a-d2f7e52e1d1f bluesedan\n",
      "repeated_further 0 3462-0bdc5ad9-844a-42e7-b11a-d2f7e52e1d1f woven\n",
      "repeated_further 1 3462-0bdc5ad9-844a-42e7-b11a-d2f7e52e1d1f hatchback\n",
      "repeated_further 1 3462-0bdc5ad9-844a-42e7-b11a-d2f7e52e1d1f goldenretriever\n",
      "repeated_closer 1 3462-0bdc5ad9-844a-42e7-b11a-d2f7e52e1d1f cuckoo\n",
      "once_further 1 3462-0bdc5ad9-844a-42e7-b11a-d2f7e52e1d1f bullmastiff\n",
      "repeated_further 1 3462-0bdc5ad9-844a-42e7-b11a-d2f7e52e1d1f sparrow\n",
      "once_further 1 3462-0bdc5ad9-844a-42e7-b11a-d2f7e52e1d1f doberman\n",
      "repeated_closer 1 3462-0bdc5ad9-844a-42e7-b11a-d2f7e52e1d1f nightingale\n",
      "repeated_closer 1 3462-0bdc5ad9-844a-42e7-b11a-d2f7e52e1d1f bluejay\n",
      "once_closer 1 3462-0bdc5ad9-844a-42e7-b11a-d2f7e52e1d1f straight\n",
      "repeated_further 1 3462-0bdc5ad9-844a-42e7-b11a-d2f7e52e1d1f woven\n",
      "once_further 1 3462-0bdc5ad9-844a-42e7-b11a-d2f7e52e1d1f tomtit\n",
      "once_closer 1 3462-0bdc5ad9-844a-42e7-b11a-d2f7e52e1d1f bluesport\n",
      "repeated_closer 1 3462-0bdc5ad9-844a-42e7-b11a-d2f7e52e1d1f pigeon\n",
      "once_closer 1 3462-0bdc5ad9-844a-42e7-b11a-d2f7e52e1d1f pug\n",
      "once_further 2 3462-0bdc5ad9-844a-42e7-b11a-d2f7e52e1d1f basset\n",
      "repeated_closer 2 3462-0bdc5ad9-844a-42e7-b11a-d2f7e52e1d1f bluejay\n",
      "repeated_closer 2 3462-0bdc5ad9-844a-42e7-b11a-d2f7e52e1d1f cuckoo\n",
      "once_further 2 3462-0bdc5ad9-844a-42e7-b11a-d2f7e52e1d1f leather\n",
      "repeated_further 2 3462-0bdc5ad9-844a-42e7-b11a-d2f7e52e1d1f woven\n",
      "repeated_closer 2 3462-0bdc5ad9-844a-42e7-b11a-d2f7e52e1d1f nightingale\n",
      "repeated_closer 2 3462-0bdc5ad9-844a-42e7-b11a-d2f7e52e1d1f pigeon\n",
      "repeated_further 2 3462-0bdc5ad9-844a-42e7-b11a-d2f7e52e1d1f hatchback\n",
      "repeated_further 2 3462-0bdc5ad9-844a-42e7-b11a-d2f7e52e1d1f goldenretriever\n",
      "once_closer 2 3462-0bdc5ad9-844a-42e7-b11a-d2f7e52e1d1f knob\n",
      "once_closer 2 3462-0bdc5ad9-844a-42e7-b11a-d2f7e52e1d1f bloodhound\n",
      "once_further 2 3462-0bdc5ad9-844a-42e7-b11a-d2f7e52e1d1f robin\n",
      "repeated_further 2 3462-0bdc5ad9-844a-42e7-b11a-d2f7e52e1d1f sparrow\n",
      "once_closer 2 3462-0bdc5ad9-844a-42e7-b11a-d2f7e52e1d1f chihuahua\n",
      "repeated_closer 3 3462-0bdc5ad9-844a-42e7-b11a-d2f7e52e1d1f cuckoo\n",
      "once_closer 3 3462-0bdc5ad9-844a-42e7-b11a-d2f7e52e1d1f inlay\n",
      "once_closer 3 3462-0bdc5ad9-844a-42e7-b11a-d2f7e52e1d1f waiting\n",
      "repeated_further 3 3462-0bdc5ad9-844a-42e7-b11a-d2f7e52e1d1f goldenretriever\n",
      "once_closer 3 3462-0bdc5ad9-844a-42e7-b11a-d2f7e52e1d1f redsport\n",
      "repeated_closer 3 3462-0bdc5ad9-844a-42e7-b11a-d2f7e52e1d1f bluejay\n",
      "once_further 3 3462-0bdc5ad9-844a-42e7-b11a-d2f7e52e1d1f beetle\n",
      "repeated_further 3 3462-0bdc5ad9-844a-42e7-b11a-d2f7e52e1d1f sparrow\n",
      "repeated_further 3 3462-0bdc5ad9-844a-42e7-b11a-d2f7e52e1d1f hatchback\n",
      "repeated_closer 3 3462-0bdc5ad9-844a-42e7-b11a-d2f7e52e1d1f nightingale\n",
      "repeated_further 3 3462-0bdc5ad9-844a-42e7-b11a-d2f7e52e1d1f woven\n",
      "repeated_closer 3 3462-0bdc5ad9-844a-42e7-b11a-d2f7e52e1d1f pigeon\n",
      "once_further 3 3462-0bdc5ad9-844a-42e7-b11a-d2f7e52e1d1f sling\n",
      "once_further 3 3462-0bdc5ad9-844a-42e7-b11a-d2f7e52e1d1f redantique\n",
      "once_further 0 4341-7077986e-13c1-4022-a169-e6406fde06fd beetle\n",
      "once_further 0 4341-7077986e-13c1-4022-a169-e6406fde06fd leather\n",
      "repeated_further 0 4341-7077986e-13c1-4022-a169-e6406fde06fd bluesedan\n",
      "repeated_closer 0 4341-7077986e-13c1-4022-a169-e6406fde06fd pug\n",
      "once_closer 0 4341-7077986e-13c1-4022-a169-e6406fde06fd cuckoo\n",
      "once_further 0 4341-7077986e-13c1-4022-a169-e6406fde06fd sling\n",
      "repeated_further 0 4341-7077986e-13c1-4022-a169-e6406fde06fd inlay\n",
      "repeated_further 0 4341-7077986e-13c1-4022-a169-e6406fde06fd crow\n",
      "repeated_closer 0 4341-7077986e-13c1-4022-a169-e6406fde06fd doberman\n",
      "repeated_further 0 4341-7077986e-13c1-4022-a169-e6406fde06fd chihuahua\n",
      "repeated_closer 0 4341-7077986e-13c1-4022-a169-e6406fde06fd bullmastiff\n",
      "repeated_closer 0 4341-7077986e-13c1-4022-a169-e6406fde06fd basset\n",
      "once_closer 0 4341-7077986e-13c1-4022-a169-e6406fde06fd bluesport\n",
      "once_closer 0 4341-7077986e-13c1-4022-a169-e6406fde06fd woven\n",
      "once_closer 1 4341-7077986e-13c1-4022-a169-e6406fde06fd robin\n",
      "once_closer 1 4341-7077986e-13c1-4022-a169-e6406fde06fd white\n",
      "repeated_further 1 4341-7077986e-13c1-4022-a169-e6406fde06fd inlay\n",
      "once_further 1 4341-7077986e-13c1-4022-a169-e6406fde06fd weimaraner\n",
      "once_further 1 4341-7077986e-13c1-4022-a169-e6406fde06fd pigeon\n",
      "repeated_further 1 4341-7077986e-13c1-4022-a169-e6406fde06fd crow\n",
      "repeated_closer 1 4341-7077986e-13c1-4022-a169-e6406fde06fd basset\n",
      "repeated_further 1 4341-7077986e-13c1-4022-a169-e6406fde06fd bluesedan\n",
      "repeated_further 1 4341-7077986e-13c1-4022-a169-e6406fde06fd chihuahua\n",
      "once_closer 1 4341-7077986e-13c1-4022-a169-e6406fde06fd brown\n",
      "repeated_closer 1 4341-7077986e-13c1-4022-a169-e6406fde06fd pug\n",
      "once_further 1 4341-7077986e-13c1-4022-a169-e6406fde06fd goldenretriever\n",
      "repeated_closer 1 4341-7077986e-13c1-4022-a169-e6406fde06fd doberman\n",
      "repeated_closer 1 4341-7077986e-13c1-4022-a169-e6406fde06fd bullmastiff\n",
      "repeated_further 2 4341-7077986e-13c1-4022-a169-e6406fde06fd crow\n",
      "repeated_closer 2 4341-7077986e-13c1-4022-a169-e6406fde06fd bullmastiff\n",
      "once_further 2 4341-7077986e-13c1-4022-a169-e6406fde06fd bloodhound\n",
      "once_closer 2 4341-7077986e-13c1-4022-a169-e6406fde06fd nightingale\n",
      "once_closer 2 4341-7077986e-13c1-4022-a169-e6406fde06fd straight\n",
      "once_further 2 4341-7077986e-13c1-4022-a169-e6406fde06fd redantique\n",
      "repeated_further 2 4341-7077986e-13c1-4022-a169-e6406fde06fd inlay\n",
      "repeated_closer 2 4341-7077986e-13c1-4022-a169-e6406fde06fd pug\n",
      "once_closer 2 4341-7077986e-13c1-4022-a169-e6406fde06fd redsport\n",
      "repeated_further 2 4341-7077986e-13c1-4022-a169-e6406fde06fd bluesedan\n",
      "repeated_closer 2 4341-7077986e-13c1-4022-a169-e6406fde06fd basset\n",
      "repeated_further 2 4341-7077986e-13c1-4022-a169-e6406fde06fd chihuahua\n",
      "repeated_closer 2 4341-7077986e-13c1-4022-a169-e6406fde06fd doberman\n",
      "once_further 2 4341-7077986e-13c1-4022-a169-e6406fde06fd squat\n",
      "repeated_closer 3 4341-7077986e-13c1-4022-a169-e6406fde06fd pug\n",
      "repeated_further 3 4341-7077986e-13c1-4022-a169-e6406fde06fd crow\n",
      "once_closer 3 4341-7077986e-13c1-4022-a169-e6406fde06fd bluejay\n",
      "repeated_closer 3 4341-7077986e-13c1-4022-a169-e6406fde06fd bullmastiff\n",
      "once_closer 3 4341-7077986e-13c1-4022-a169-e6406fde06fd knob\n",
      "once_further 3 4341-7077986e-13c1-4022-a169-e6406fde06fd sparrow\n",
      "once_further 3 4341-7077986e-13c1-4022-a169-e6406fde06fd tomtit\n",
      "once_further 3 4341-7077986e-13c1-4022-a169-e6406fde06fd hatchback\n",
      "repeated_further 3 4341-7077986e-13c1-4022-a169-e6406fde06fd bluesedan\n",
      "once_closer 3 4341-7077986e-13c1-4022-a169-e6406fde06fd waiting\n",
      "repeated_further 3 4341-7077986e-13c1-4022-a169-e6406fde06fd inlay\n",
      "repeated_further 3 4341-7077986e-13c1-4022-a169-e6406fde06fd chihuahua\n",
      "repeated_closer 3 4341-7077986e-13c1-4022-a169-e6406fde06fd basset\n",
      "repeated_closer 3 4341-7077986e-13c1-4022-a169-e6406fde06fd doberman\n"
     ]
    }
   ],
   "source": [
    "for index, row in D.iterrows():\n",
    "    imgData = row['png']\n",
    "#     filestr = base64.b64decode(imgData)\n",
    "#     fname = 'sketch.png'\n",
    "#     with open(fname, \"wb\") as fh:\n",
    "#         fh.write(imgData.decode('base64'))\n",
    "#     textsize = 16\n",
    "#     # first plot the target\n",
    "#     im = Image.open(fname)\n",
    "#     fig = plt.figure(figsize=(8,4))\n",
    "#     p = plt.subplot(2,4,1)\n",
    "#     plt.imshow(im)\n",
    "#     sns.set_style('white')\n",
    "#     k = p.get_xaxis().set_ticklabels([])\n",
    "#     k = p.get_yaxis().set_ticklabels([])\n",
    "#     k = p.get_xaxis().set_ticks([])\n",
    "#     k = p.get_yaxis().set_ticks([])  \n",
    "    print row['trialType'],row['epoch'],row['gameID'],row['target']"
   ]
  },
  {
   "cell_type": "code",
   "execution_count": 321,
   "metadata": {
    "collapsed": false
   },
   "outputs": [],
   "source": [
    "### for g in valid_gameids:\n",
    "for g in valid_gameids:\n",
    "    print 'Printing out sketches from game: ' + g\n",
    "    trial_types = ['repeated_closer','repeated_further','once_closer','once_further']\n",
    "    for tt in trial_types:\n",
    "        _D = D[(D.trialType==tt) & (D.gameID==g)]\n",
    "        _D = _D.sort_values(by=['epoch','target'])\n",
    "        _i = 1\n",
    "        textsize=12\n",
    "        fig = plt.figure(figsize=(8,8))\n",
    "        for i,_d in _D.iterrows():\n",
    "            imgData = _d['png']\n",
    "            filestr = base64.b64decode(imgData)\n",
    "            fname = 'sketch.png'\n",
    "            with open(fname, \"wb\") as fh:\n",
    "                fh.write(imgData.decode('base64'))\n",
    "            textsize = 16\n",
    "            # first plot the target\n",
    "            im = Image.open(fname)\n",
    "            p = plt.subplot(4,4,_i)\n",
    "            plt.imshow(im)\n",
    "            sns.set_style('white')\n",
    "            k = p.get_xaxis().set_ticklabels([])\n",
    "            k = p.get_yaxis().set_ticklabels([])\n",
    "            k = p.get_xaxis().set_ticks([])\n",
    "            k = p.get_yaxis().set_ticks([]) \n",
    "            if (_i < 5) & (tt in ['repeated_closer','repeated_further']):\n",
    "                plt.title(_d['target'] ,fontsize=textsize)\n",
    "            elif tt not in ['repeated_closer','repeated_further']:\n",
    "                plt.title(_d['target'] ,fontsize=textsize)\n",
    "            if (_i-1)%4==0:\n",
    "                plt.ylabel('epoch ' + str(_d['epoch']) ,fontsize=textsize)\n",
    "            _i  = _i + 1\n",
    "        sketch_dir = os.path.join(analysis_dir,'sketches')\n",
    "        filepath = os.path.join(sketch_dir,'gameID_' + _d['gameID'] + '_type_' + _d['trialType'])\n",
    "        helpers.save(filepath, ext='pdf', close=True, verbose=False)\n"
   ]
  },
  {
   "cell_type": "code",
   "execution_count": null,
   "metadata": {
    "collapsed": false
   },
   "outputs": [],
   "source": []
  },
  {
   "cell_type": "code",
   "execution_count": null,
   "metadata": {
    "collapsed": true
   },
   "outputs": [],
   "source": []
  },
  {
   "cell_type": "code",
   "execution_count": null,
   "metadata": {
    "collapsed": true
   },
   "outputs": [],
   "source": []
  },
  {
   "cell_type": "code",
   "execution_count": null,
   "metadata": {
    "collapsed": true
   },
   "outputs": [],
   "source": []
  },
  {
   "cell_type": "code",
   "execution_count": null,
   "metadata": {
    "collapsed": true
   },
   "outputs": [],
   "source": []
  },
  {
   "cell_type": "code",
   "execution_count": 55,
   "metadata": {
    "collapsed": false
   },
   "outputs": [
    {
     "name": "stdout",
     "output_type": "stream",
     "text": [
      "Total games, even if incomplete: 6\n",
      "Total complete games: 5\n"
     ]
    }
   ],
   "source": [
    "## based on CSV click_files \n",
    "\n",
    "clickedObj_dir = os.path.join(data_dir,'clickedObj')\n",
    "stroke_dir = os.path.join(data_dir,'stroke')\n",
    "\n",
    "# get data files\n",
    "click_files = [i for i in os.listdir(clickedObj_dir) if i[-3:]=='csv']\n",
    "stroke_files = [i for i in os.listdir(stroke_dir) if i[-3:]=='csv']\n",
    "\n",
    "click_files = [i for i in click_files if i != 'placeholder.csv']\n",
    "stroke_files = [i for i in stroke_files if i != 'placeholder.csv']\n",
    "\n",
    "print 'Total games, even if incomplete: ' +  str(len(click_files))\n",
    "\n",
    "# filter for COMPLETE games\n",
    "valid_click_files = []\n",
    "for x in click_files:\n",
    "    X = pd.read_csv(os.path.join(clickedObj_dir,x),delimiter='\\t')    \n",
    "    try:\n",
    "        if len(X)==56:\n",
    "            valid_click_files.append(x)\n",
    "    except:\n",
    "        print len(X)\n",
    "        pass\n",
    "print 'Total complete games: ' + str(len(valid_click_files))\n",
    "\n",
    "click_files = valid_click_files\n",
    "stroke_files = valid_click_files"
   ]
  },
  {
   "cell_type": "code",
   "execution_count": 71,
   "metadata": {
    "collapsed": false
   },
   "outputs": [],
   "source": [
    "for x in click_files:\n",
    "    X = pd.read_csv(os.path.join(clickedObj_dir,x),delimiter='\\t')\n",
    "    if X[X.index==0]['gameid'].values[0]=='pilot':\n",
    "        wrong_column_order = X.columns     \n",
    "        Y = X\n",
    "    else:\n",
    "        correct_column_order = X.columns"
   ]
  },
  {
   "cell_type": "code",
   "execution_count": null,
   "metadata": {
    "collapsed": false
   },
   "outputs": [],
   "source": []
  },
  {
   "cell_type": "code",
   "execution_count": null,
   "metadata": {
    "collapsed": false
   },
   "outputs": [],
   "source": []
  },
  {
   "cell_type": "code",
   "execution_count": null,
   "metadata": {
    "collapsed": false
   },
   "outputs": [],
   "source": []
  },
  {
   "cell_type": "code",
   "execution_count": null,
   "metadata": {
    "collapsed": true
   },
   "outputs": [],
   "source": []
  },
  {
   "cell_type": "code",
   "execution_count": null,
   "metadata": {
    "collapsed": true
   },
   "outputs": [],
   "source": []
  },
  {
   "cell_type": "code",
   "execution_count": null,
   "metadata": {
    "collapsed": true
   },
   "outputs": [],
   "source": []
  }
 ],
 "metadata": {
  "kernelspec": {
   "display_name": "Python 2",
   "language": "python",
   "name": "python2"
  },
  "language_info": {
   "codemirror_mode": {
    "name": "ipython",
    "version": 2
   },
   "file_extension": ".py",
   "mimetype": "text/x-python",
   "name": "python",
   "nbconvert_exporter": "python",
   "pygments_lexer": "ipython2",
   "version": "2.7.12"
  }
 },
 "nbformat": 4,
 "nbformat_minor": 0
}
