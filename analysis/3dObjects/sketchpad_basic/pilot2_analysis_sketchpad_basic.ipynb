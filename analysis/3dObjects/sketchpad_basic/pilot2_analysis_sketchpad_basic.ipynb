{
 "cells": [
  {
   "cell_type": "code",
   "execution_count": 17,
   "metadata": {},
   "outputs": [
    {
     "data": {
      "text/plain": [
       "<module 'analysis_helpers' from 'analysis_helpers.pyc'>"
      ]
     },
     "execution_count": 17,
     "metadata": {},
     "output_type": "execute_result"
    }
   ],
   "source": [
    "import os\n",
    "import urllib, cStringIO\n",
    "\n",
    "import pymongo as pm\n",
    "\n",
    "import matplotlib\n",
    "from matplotlib import pylab, mlab, pyplot\n",
    "%matplotlib inline\n",
    "from IPython.core.pylabtools import figsize, getfigs\n",
    "plt = pyplot\n",
    "import seaborn as sns\n",
    "sns.set_context('poster')\n",
    "sns.set_style('white')\n",
    "\n",
    "import numpy as np\n",
    "from __future__ import division\n",
    "import scipy.stats as stats\n",
    "import pandas as pd\n",
    "import json\n",
    "import re\n",
    "\n",
    "from PIL import Image\n",
    "import base64\n",
    "\n",
    "from helpers import *\n",
    "import analysis_helpers as h\n",
    "reload(h)"
   ]
  },
  {
   "cell_type": "code",
   "execution_count": 18,
   "metadata": {
    "collapsed": true
   },
   "outputs": [],
   "source": [
    "# directory & file hierarchy\n",
    "iterationName = 'pilot2'\n",
    "exp_path = '3dObjects/sketchpad_basic'\n",
    "analysis_dir = os.getcwd()\n",
    "data_dir = os.path.abspath(os.path.join(os.getcwd(),'../../..','data',exp_path))\n",
    "exp_dir = os.path.abspath(os.path.join(os.getcwd(),'../../..','experiments',exp_path))\n",
    "sketch_dir = os.path.abspath(os.path.join(os.getcwd(),'../../..','analysis',exp_path,'sketches','pilot2'))"
   ]
  },
  {
   "cell_type": "code",
   "execution_count": null,
   "metadata": {
    "collapsed": true
   },
   "outputs": [],
   "source": [
    "# set vars \n",
    "auth = pd.read_csv('auth.txt', header = None) # this auth.txt file contains the password for the sketchloop user\n",
    "pswd = auth.values[0][0]\n",
    "user = 'sketchloop'\n",
    "host = 'rxdhawkins.me' ## cocolab ip address\n",
    "\n",
    "# have to fix this to be able to analyze from local\n",
    "import pymongo as pm\n",
    "conn = pm.MongoClient('mongodb://sketchloop:' + pswd + '@127.0.0.1')\n",
    "db = conn['3dObjects']\n",
    "coll = db['sketchpad_basic']"
   ]
  },
  {
   "cell_type": "code",
   "execution_count": null,
   "metadata": {
    "collapsed": true
   },
   "outputs": [],
   "source": [
    "S = coll.find({ '$and': [{'iterationName':'pilot2'}, {'eventType': 'stroke'}]}).sort('time')\n",
    "C = coll.find({ '$and': [{'iterationName':'pilot2'}, {'eventType': 'clickedObj'}]}).sort('time')\n",
    "print str(S.count()) + ' stroke records in the database.'\n",
    "print str(C.count()) + ' clickedObj records in the database.'"
   ]
  },
  {
   "cell_type": "code",
   "execution_count": null,
   "metadata": {
    "collapsed": true
   },
   "outputs": [],
   "source": [
    "# print unique gameid's\n",
    "unique_gameids = coll.find({ '$and': [{'iterationName':'pilot2'}, {'eventType': 'clickedObj'}]}).sort('time').distinct('gameid')\n",
    "# print map(str,unique_gameids)\n",
    "\n",
    "# filter out  records that match researcher ID's\n",
    "jefan = ['A1MMCS8S8CTWKU','A1MMCS8S8CTWKV','A1MMCS8S8CTWKS']\n",
    "hawkrobe = ['A1BOIDKD33QSDK']\n",
    "researchers = jefan + hawkrobe\n",
    "workers = [i for i in coll.find({'iterationName':'pilot2'}).distinct('workerId') if i not in researchers]"
   ]
  },
  {
   "cell_type": "code",
   "execution_count": null,
   "metadata": {
    "collapsed": true,
    "scrolled": false
   },
   "outputs": [],
   "source": [
    "valid_gameids = []\n",
    "for i,g in enumerate(unique_gameids):\n",
    "    W = coll.find({ '$and': [{'gameid': g}]}).distinct('workerId')\n",
    "    for w in W:\n",
    "        if w in workers:\n",
    "            X = coll.find({ '$and': [{'workerId': w}, {'gameid': g}]}).distinct('trialNum') ## # of trials completed\n",
    "            eventType = coll.find({ '$and': [{'workerId': w}]}).distinct('eventType')\n",
    "            print i, w[:4], len(X), str(eventType[0])\n",
    "            if (str(eventType[0])=='clickedObj') & (len(X)==32):\n",
    "                valid_gameids.append(g)\n",
    "print '   ===========   '\n",
    "\n",
    "## filter if the pair cheated by writing words or using other symbols\n",
    "cheaty = ['8155-e46a25a3-9259-4b76-80e9-5bd79b6bdd97','6224-ab96ed5c-2a98-477c-aae2-7398b9e5b237']\n",
    "valid_gameids = [i for i in valid_gameids if i not in cheaty]\n",
    "\n",
    "print str(len(valid_gameids)) + ' valid gameIDs (# complete games).'\n",
    "\n",
    "df = pd.DataFrame([valid_gameids])\n",
    "df = df.transpose()\n",
    "df.columns=['valid_gameids']\n",
    "df.to_csv('valid_gameids_pilot2.csv')"
   ]
  },
  {
   "cell_type": "code",
   "execution_count": null,
   "metadata": {
    "collapsed": true
   },
   "outputs": [],
   "source": []
  },
  {
   "cell_type": "code",
   "execution_count": null,
   "metadata": {
    "collapsed": true
   },
   "outputs": [],
   "source": []
  },
  {
   "cell_type": "code",
   "execution_count": null,
   "metadata": {
    "collapsed": true
   },
   "outputs": [],
   "source": [
    "TrialNum = []\n",
    "GameID = []\n",
    "Condition = []\n",
    "Target = []\n",
    "Distractor1 = []\n",
    "Distractor2 = []\n",
    "Distractor3 = []\n",
    "Outcome = []\n",
    "Response = []\n",
    "numStrokes = []\n",
    "drawDuration = [] # in seconds\n",
    "svgStringLength = [] # sum of svg string for whole sketch\n",
    "svgStringLengthPerStroke = [] # svg string length per stroke\n",
    "numCurvesPerSketch = [] # number of curve segments per sketch\n",
    "numCurvesPerStroke = [] # mean number of curve segments per stroke\n",
    "svgStringStd = [] # std of svg string length across strokes for this sketch\n",
    "Outcome = []\n",
    "Pose = []\n",
    "Svg = []\n",
    "\n",
    "for g in valid_gameids:\n",
    "    print 'Analyzing game: ', g\n",
    "\n",
    "    X = coll.find({ '$and': [{'gameid': g}, {'eventType': 'clickedObj'}]}).sort('time')\n",
    "    Y = coll.find({ '$and': [{'gameid': g}, {'eventType': 'stroke'}]}).sort('time')\n",
    "\n",
    "    for t in X:\n",
    "        targetname = t['intendedName']\n",
    "        distractors = [t['object2Name'],t['object3Name'],t['object4Name']]\n",
    "        full_list = [t['intendedName'],t['object2Name'],t['object3Name'],t['object4Name']] \n",
    "        y = coll.find({ '$and': [{'gameid': g}, {'eventType': 'stroke'}, {'trialNum': t['trialNum']}]}).sort('time')\n",
    "        ns = y.count()\n",
    "        numStrokes.append(ns)\n",
    "        drawDuration.append((y.__getitem__(ns-1)['time'] - y.__getitem__(0)['time'])/1000) # in seconds        \n",
    "        ls = [len(_y['svgData']) for _y in y]\n",
    "        svgStringLength.append(reduce(lambda x, y: x + y, ls))\n",
    "        y = coll.find({ '$and': [{'gameid': g}, {'eventType': 'stroke'}, {'trialNum': t['trialNum']}]}).sort('time')\n",
    "        num_curves = [len([m.start() for m in re.finditer('c', _y['svgData'])]) for _y in y]\n",
    "        y = coll.find({ '$and': [{'gameid': g}, {'eventType': 'stroke'}, {'trialNum': t['trialNum']}]}).sort('time')        \n",
    "        _svg = []\n",
    "        for _y in y:\n",
    "            _svg.append(_y['svgData'])\n",
    "        Svg.append(_svg)\n",
    "        numCurvesPerSketch.append(reduce(lambda x, y: x + y, num_curves))\n",
    "        numCurvesPerStroke.append(reduce(lambda x, y: x + y, num_curves)/ns)\n",
    "        svgStringLengthPerStroke.append(reduce(lambda x, y: x + y, ls)/ns)\n",
    "        svgStringStd.append(np.std(ls))\n",
    "    #     ## aggregate game metadata\n",
    "        TrialNum.append(t['trialNum'])\n",
    "        GameID.append(t['gameid'])        \n",
    "        Target.append(targetname)\n",
    "        Condition.append(t['condition'])\n",
    "        Response.append(t['clickedName'])\n",
    "        Outcome.append(t['correct'])\n",
    "        Distractor1.append(distractors[0])\n",
    "        Distractor2.append(distractors[1])\n",
    "        Distractor3.append(distractors[2])\n",
    "        Pose.append(t['pose'])\n",
    "        \n"
   ]
  },
  {
   "cell_type": "code",
   "execution_count": null,
   "metadata": {
    "collapsed": true
   },
   "outputs": [],
   "source": [
    "iteration = ['pilot2']*len(GameID)\n",
    "\n",
    "_D = pd.DataFrame([GameID,TrialNum,Condition, Target, drawDuration, Outcome, Response, numStrokes, \\\n",
    "                  svgStringLength, svgStringLengthPerStroke, svgStringStd, Distractor1, Distractor2, \\\n",
    "                   Distractor3, Pose, iteration, Svg]) \\\n",
    "\n",
    "D =_D.transpose()\n",
    "D.columns = ['gameID','trialNum','condition', 'target', 'drawDuration','outcome', 'response', \\\n",
    "             'numStrokes', 'svgStringLength', 'svgStringLengthPerStroke', 'svgStringStd', \\\n",
    "            'Distractor1', 'Distractor2', 'Distractor3', 'pose', 'iteration', 'svg']"
   ]
  },
  {
   "cell_type": "code",
   "execution_count": null,
   "metadata": {
    "collapsed": true
   },
   "outputs": [],
   "source": []
  },
  {
   "cell_type": "code",
   "execution_count": null,
   "metadata": {
    "collapsed": true
   },
   "outputs": [],
   "source": [
    "## add png to D dataframe\n",
    "png = []\n",
    "for g in valid_gameids:\n",
    "    X = coll.find({ '$and': [{'gameid': g}, {'eventType': 'clickedObj'}]}).sort('time')\n",
    "    Y = coll.find({ '$and': [{'gameid': g}, {'eventType': 'stroke'}]}).sort('time')\n",
    "    # print out sketches from all trials from this game\n",
    "    for t in X: \n",
    "        png.append(t['pngString'])\n",
    "D = D.assign(png=pd.Series(png).values)\n",
    "\n",
    "iteration = ['pilot2']*len(D['gameID'].values)\n",
    "D = D.assign(iteration=pd.Series(iteration).values)\n"
   ]
  },
  {
   "cell_type": "code",
   "execution_count": null,
   "metadata": {
    "collapsed": true
   },
   "outputs": [],
   "source": [
    "## add another cost-related dependent measure: mean pixel intensity (amount of ink spilled) -- to handle\n",
    "## some weird glitches in the num stroke count\n",
    "mean_intensity = []\n",
    "imsize = 100\n",
    "numpix = imsize**2\n",
    "thresh = 250\n",
    "for i,_d in D.iterrows():\n",
    "    imgData = _d['png']\n",
    "    filestr = base64.b64decode(imgData)\n",
    "    fname = os.path.join('sketch.png')\n",
    "    with open(fname, \"wb\") as fh:\n",
    "        fh.write(imgData.decode('base64'))\n",
    "    im = Image.open(fname).resize((imsize,imsize))\n",
    "    _im = np.array(im)\n",
    "    mean_intensity.append(len(np.where(_im[:,:,3].flatten()>thresh)[0])/numpix)"
   ]
  },
  {
   "cell_type": "code",
   "execution_count": null,
   "metadata": {
    "collapsed": true
   },
   "outputs": [],
   "source": [
    "# add mean_intensity to the main D dataframe \n",
    "### btw: mean_intensity and numStrokes is about 0.43 spearman correlated.\n",
    "D = D.assign(mean_intensity=pd.Series(mean_intensity).values)\n",
    "print stats.spearmanr(D['mean_intensity'].values,D['numStrokes'].values)\n",
    "\n",
    "category = [h.objcat[t] for t in D.target.values]\n",
    "D = D.assign(category=pd.Series(category).values)\n"
   ]
  },
  {
   "cell_type": "code",
   "execution_count": null,
   "metadata": {
    "collapsed": true
   },
   "outputs": [],
   "source": []
  },
  {
   "cell_type": "code",
   "execution_count": null,
   "metadata": {
    "collapsed": true
   },
   "outputs": [],
   "source": [
    "# save D out as group_data.csv \n",
    "D.to_csv(os.path.join(analysis_dir,'sketchpad_basic_pilot2_group_data.csv'))"
   ]
  },
  {
   "cell_type": "code",
   "execution_count": null,
   "metadata": {
    "collapsed": true
   },
   "outputs": [],
   "source": []
  },
  {
   "cell_type": "code",
   "execution_count": null,
   "metadata": {
    "collapsed": true
   },
   "outputs": [],
   "source": [
    "# get summary statistics\n",
    "all_games = np.unique(D['gameID'])\n",
    "further_strokes = []\n",
    "closer_strokes = []\n",
    "further_svgLength = []\n",
    "closer_svgLength = []\n",
    "further_svgStd = []\n",
    "closer_svgStd = []\n",
    "further_svgLengthPS = []\n",
    "closer_svgLengthPS = []\n",
    "further_drawDuration = []\n",
    "closer_drawDuration = []\n",
    "further_accuracy = []\n",
    "closer_accuracy = []\n",
    "for game in all_games:    \n",
    "    further_strokes.append(D[(D['gameID']== game) & (D['condition'] == 'further')]['numStrokes'].mean())\n",
    "    closer_strokes.append(D[(D['gameID']== game) & (D['condition'] == 'closer')]['numStrokes'].mean())\n",
    "    further_svgLength.append(D[(D['gameID']== game) & (D['condition'] == 'further')]['svgStringLength'].mean())\n",
    "    closer_svgLength.append(D[(D['gameID']== game) & (D['condition'] == 'closer')]['svgStringLength'].mean())\n",
    "    further_svgStd.append(D[(D['gameID']== game) & (D['condition'] == 'further')]['svgStringStd'].mean())\n",
    "    closer_svgStd.append(D[(D['gameID']== game) & (D['condition'] == 'closer')]['svgStringStd'].mean())    \n",
    "    further_svgLengthPS.append(D[(D['gameID']== game) & (D['condition'] == 'further')]['svgStringLengthPerStroke'].mean())\n",
    "    closer_svgLengthPS.append(D[(D['gameID']== game) & (D['condition'] == 'closer')]['svgStringLengthPerStroke'].mean())\n",
    "    further_drawDuration.append(D[(D['gameID']== game) & (D['condition'] == 'further')]['drawDuration'].mean())\n",
    "    closer_drawDuration.append(D[(D['gameID']== game) & (D['condition'] == 'closer')]['drawDuration'].mean())\n",
    "    further_accuracy.append(D[(D['gameID']== game) & (D['condition'] == 'further')]['outcome'].mean())\n",
    "    closer_accuracy.append(D[(D['gameID']== game) & (D['condition'] == 'closer')]['outcome'].mean())\n",
    "    \n",
    "further_strokes, closer_strokes, further_svgLength, closer_svgLength, \\\n",
    "further_svgStd, closer_svgStd, further_svgLengthPS, closer_svgLengthPS, \\\n",
    "further_drawDuration, closer_drawDuration, further_accuracy, closer_accuracy = map(np.array, \\\n",
    "[further_strokes, closer_strokes, further_svgLength, closer_svgLength,\\\n",
    " further_svgStd, closer_svgStd, further_svgLengthPS, closer_svgLengthPS, \\\n",
    "further_drawDuration, closer_drawDuration, further_accuracy, closer_accuracy])"
   ]
  },
  {
   "cell_type": "code",
   "execution_count": null,
   "metadata": {
    "collapsed": true
   },
   "outputs": [],
   "source": [
    "print further_strokes.mean(), closer_strokes.mean()\n",
    "print further_svgLength.mean(), closer_svgLength.mean()\n",
    "print further_svgStd.mean(), closer_svgStd.mean()\n",
    "print further_svgLengthPS.mean(), closer_svgLengthPS.mean()\n",
    "print further_drawDuration.mean(), closer_drawDuration.mean()\n",
    "print further_accuracy.mean(), closer_accuracy.mean()"
   ]
  },
  {
   "cell_type": "code",
   "execution_count": null,
   "metadata": {
    "collapsed": true
   },
   "outputs": [],
   "source": [
    "fig = plt.figure(figsize=(10,10))\n",
    "plt.subplot(2,2,1)\n",
    "lb = 0\n",
    "ub = 24\n",
    "plt.plot([lb,ub],[lb,ub],'k--')\n",
    "plt.scatter(closer_strokes,further_strokes,64,(0.8,0.4,0.4))\n",
    "plt.xlim([lb,ub])\n",
    "plt.ylim([lb,ub])\n",
    "plt.title('number of strokes')\n",
    "plt.xlabel('closer')\n",
    "plt.ylabel('further')\n",
    "plt.subplot(2,2,2)\n",
    "lb = 0\n",
    "ub = 3000\n",
    "plt.plot([lb,ub],[lb,ub],'k--')\n",
    "plt.scatter(closer_svgLength,further_svgLength,64,(0.8,0.4,0.4))\n",
    "plt.xlim([lb,ub])\n",
    "plt.ylim([lb,ub])\n",
    "plt.tight_layout()\n",
    "plt.title('svg string length')\n",
    "plt.xlabel('closer')\n",
    "plt.ylabel('further')\n",
    "plt.subplot(2,2,3)\n",
    "lb = 0\n",
    "ub = 300\n",
    "plt.plot([lb,ub],[lb,ub],'k--')\n",
    "plt.scatter(closer_svgStd,further_svgStd,64,(0.8,0.4,0.4))\n",
    "plt.xlim([lb,ub])\n",
    "plt.ylim([lb,ub])\n",
    "plt.title('stroke variability')\n",
    "plt.xlabel('closer')\n",
    "plt.ylabel('further')\n",
    "plt.subplot(2,2,4)\n",
    "lb = 0\n",
    "ub = 300\n",
    "plt.plot([lb,ub],[lb,ub],'k--')\n",
    "plt.scatter(closer_svgLengthPS,further_svgLengthPS,64,(0.8,0.4,0.4))\n",
    "plt.xlim([lb,ub])\n",
    "plt.ylim([lb,ub])\n",
    "plt.tight_layout()\n",
    "plt.title('svg length per stroke')\n",
    "plt.xlabel('closer')\n",
    "plt.ylabel('further')\n",
    "save_out = 1\n",
    "if not os.path.exists('plots'):\n",
    "    os.makedirs('plots')\n",
    "if save_out:\n",
    "    save('plots/svg_summary_scatter_{}'.format(iterationName), ext='pdf', close=False, verbose=True)"
   ]
  },
  {
   "cell_type": "code",
   "execution_count": null,
   "metadata": {
    "collapsed": true
   },
   "outputs": [],
   "source": [
    "fig = plt.figure(figsize=(8,4))\n",
    "lb = 0\n",
    "ub = 1.03\n",
    "plt.subplot(1,2,1)\n",
    "plt.plot([lb,ub],[lb,ub],'k--')\n",
    "plt.scatter(closer_accuracy,further_accuracy,64,(0.8,0.4,0.4))\n",
    "plt.xlim([lb,ub])\n",
    "plt.ylim([lb,ub])\n",
    "plt.title('accuracy')\n",
    "plt.xlabel('closer')\n",
    "plt.ylabel('further')\n",
    "plt.subplot(1,2,2)\n",
    "lb = 0\n",
    "ub = 36\n",
    "plt.plot([lb,ub],[lb,ub],'k--')\n",
    "plt.scatter(closer_drawDuration,further_drawDuration,64,(0.75,0.3,0.2))\n",
    "plt.xlim([lb,ub])\n",
    "plt.ylim([lb,ub])\n",
    "plt.title('draw duration')\n",
    "plt.xlabel('closer')\n",
    "plt.ylabel('further')\n",
    "plt.tight_layout()\n",
    "save_out = 1\n",
    "if save_out:\n",
    "    save('plots/performance_summary_scatter_{}'.format(iterationName), ext='pdf', close=False, verbose=True)"
   ]
  },
  {
   "cell_type": "code",
   "execution_count": null,
   "metadata": {
    "collapsed": true
   },
   "outputs": [],
   "source": [
    "def get_canonical(category):    \n",
    "    stimFile = os.path.join(exp_dir,'stimList_subord.js')\n",
    "    with open(stimFile) as f:\n",
    "        stimList = json.load(f)    \n",
    "    allviews = [i['filename'] for i in stimList if i['basic']==category]\n",
    "    canonical = [a for a in allviews if a[-8:]=='0035.png']    \n",
    "    return canonical\n",
    "\n",
    "def get_actual_pose(subordinate,pose):\n",
    "    stimFile = os.path.join(exp_dir,'stimList_subord.js')\n",
    "    with open(stimFile) as f:\n",
    "        stimList = json.load(f)\n",
    "    inpose = [i['filename'] for i in stimList if (i['subordinate']==subordinate) and (i['pose']==pose)]\n",
    "    return inpose\n",
    "    \n",
    "def get_subord_names(category):\n",
    "    full_names = get_canonical(category)    \n",
    "    return [c.split('_')[2] for c in full_names]\n",
    "\n",
    "def get_basic_names(subordinate):\n",
    "    stimFile = os.path.join(exp_dir,'stimList_subord.js')\n",
    "    with open(stimFile) as f:\n",
    "        stimList = json.load(f)   \n",
    "    allviews = [i['filename'] for i in stimList if i['subordinate']==subordinate]\n",
    "    canonical = [a for a in allviews if a[-8:]=='0035.png']      \n",
    "    return canonical[0].split('_')[0]\n",
    "\n",
    "def build_url_from_category(category):\n",
    "    full_names = get_canonical(category)\n",
    "    url_prefix = 'https://s3.amazonaws.com/sketchloop-images-subord/'\n",
    "    urls = []\n",
    "    for f in full_names:\n",
    "        urls.append(url_prefix + f)\n",
    "    return urls\n",
    "\n",
    "def build_url_from_filenames(filenames):\n",
    "    url_prefix = 'https://s3.amazonaws.com/sketchloop-images-subord/'\n",
    "    urls = []\n",
    "    for f in filenames:\n",
    "        urls.append(url_prefix + f)\n",
    "    return urls\n",
    "\n",
    "def plot_from_url(URL):\n",
    "    file = cStringIO.StringIO(urllib.urlopen(URL).read())\n",
    "    img = Image.open(file)    \n",
    "\n",
    "def plot_gallery(category):\n",
    "    import matplotlib.pyplot as plt\n",
    "    import matplotlib.gridspec as gridspec\n",
    "\n",
    "    plt.figure(figsize = (8,8))\n",
    "    gs1 = gridspec.GridSpec(8, 8)\n",
    "    gs1.update(wspace=0.025, hspace=0.05)\n",
    "\n",
    "    url_prefix = 'https://s3.amazonaws.com/sketchloop-images-subord/'\n",
    "    for (i,c) in enumerate(category):\n",
    "        URL = url_prefix + c\n",
    "        file = cStringIO.StringIO(urllib.urlopen(URL).read())\n",
    "        img = Image.open(file)\n",
    "        p = plt.subplot(3,3,i+1)\n",
    "        plt.imshow(img)\n",
    "        p.get_xaxis().set_ticklabels([])\n",
    "        p.get_yaxis().set_ticklabels([])\n",
    "        p.get_xaxis().set_ticks([])\n",
    "        p.get_yaxis().set_ticks([])\n",
    "        p.set_aspect('equal')\n",
    "        subord = c.split('_')[2]\n",
    "        plt.title(subord)\n",
    "    plt.tight_layout()\n",
    "    "
   ]
  },
  {
   "cell_type": "code",
   "execution_count": null,
   "metadata": {
    "collapsed": true
   },
   "outputs": [],
   "source": []
  },
  {
   "cell_type": "code",
   "execution_count": null,
   "metadata": {
    "collapsed": true
   },
   "outputs": [],
   "source": [
    "## print out sketches with target & distractors from this game\n",
    "import traceback\n",
    "backup_path_images = '/Users/judithfan/Dropbox/stimuli_repository/subordinate_allrotations_6_minified'\n",
    "\n",
    "_valid_gameids = valid_gameids[:3]\n",
    "\n",
    "## get list of all incorrect sketch path names\n",
    "incorrect_trial_paths = []\n",
    "\n",
    "run_this = 1\n",
    "if run_this:\n",
    "#     all_games = click_files\n",
    "    for g in valid_gameids:\n",
    "        print 'Printing out sketches from game: ' + g\n",
    "        _D = D[(D.gameID==g)]\n",
    "        _D = _D.sort_values(by=['target'])\n",
    "        _i = 1\n",
    "        textsize=12\n",
    "        fig = plt.figure(figsize=(16,6))        \n",
    "        for i,_d in _D.iterrows():\n",
    "            imgData = _d['png']\n",
    "            filestr = base64.b64decode(imgData)\n",
    "            target_sketch_dir = os.path.join(analysis_dir,'sketches_pilot2','sketch')\n",
    "            if not os.path.exists(target_sketch_dir):\n",
    "                os.makedirs(target_sketch_dir)\n",
    "            fname = os.path.join(target_sketch_dir,'gameID_' + _d['gameID'] + '_trial_' + str(_d['trialNum']) + '.png')\n",
    "            with open(fname, \"wb\") as fh:\n",
    "                fh.write(imgData.decode('base64'))\n",
    "            textsize = 16\n",
    "            # first plot the target\n",
    "            im = Image.open(fname)\n",
    "            p = plt.subplot(2,4,1)\n",
    "            plt.imshow(im)\n",
    "            sns.set_style('white')\n",
    "            k = p.get_xaxis().set_ticklabels([])\n",
    "            k = p.get_yaxis().set_ticklabels([])\n",
    "            k = p.get_xaxis().set_ticks([])\n",
    "            k = p.get_yaxis().set_ticks([])        \n",
    "            targetname = _d['target']\n",
    "            distractors = [_d['Distractor1'],_d['Distractor2'],_d['Distractor3']]\n",
    "            full_list = [_d['target'],_d['Distractor1'],_d['Distractor2'],_d['Distractor3']] \n",
    "            outcome = _d['outcome']\n",
    "            if _d['outcome']==0:\n",
    "                incorrect_trial_paths.append('gameID_' + _d['gameID'] + '_trial_' + str(_d['trialNum']) + '_' + _d['target'] + '.png')            \n",
    "                        \n",
    "            response = _d['response']        \n",
    "            if outcome == 1:\n",
    "                sides = ['bottom','top','right','left']\n",
    "                for s in sides:\n",
    "                    p.spines[s].set_color((0.4,0.8,0.4))\n",
    "                    p.spines[s].set_linewidth(4)                               \n",
    "            else:\n",
    "                sides = ['bottom','top','right','left']\n",
    "                for s in sides:\n",
    "                    p.spines[s].set_color((0.9,0.2,0.2))\n",
    "                    p.spines[s].set_linewidth(4)                      \n",
    "            plt.title(targetname,fontsize=textsize)\n",
    "            plt.ylabel('v:' + response,fontsize=textsize-2)        \n",
    "        \n",
    "            # fig = plt.figure(figsize=(8,3))\n",
    "            for (i,d) in enumerate(full_list):\n",
    "                if os.path.exists(backup_path_images):\n",
    "                    if hasattr(t, 'pose'):\n",
    "                        fn = os.path.join(backup_path_images,get_actual_pose(d,pose)[0])\n",
    "                    else:\n",
    "                        fn = os.path.join(backup_path_images,get_actual_pose(d,35)[0])\n",
    "                else:\n",
    "                    if hasattr(t, 'pose'):\n",
    "                        pose = t['pose']\n",
    "                        URL = build_url_from_filenames(get_actual_pose(d,pose)[0])\n",
    "                    else:\n",
    "                        URL = full_dict[d]\n",
    "                    fn = cStringIO.StringIO(urllib.urlopen(URL).read())\n",
    "                img = Image.open(fn)\n",
    "                p = plt.subplot(2,4,i+5)\n",
    "                plt.imshow(img)\n",
    "                p.get_xaxis().set_ticklabels([])\n",
    "                p.get_yaxis().set_ticklabels([])\n",
    "                p.get_xaxis().set_ticks([])\n",
    "                p.get_yaxis().set_ticks([])\n",
    "                p.set_aspect('equal')   \n",
    "                plt.title(d)\n",
    "\n",
    "            sketch_dir = os.path.join(analysis_dir,'sketches_pilot2','full_display')\n",
    "            if not os.path.exists(sketch_dir):\n",
    "                os.makedirs(os.path.join(analysis_dir,'sketches_pilot2','full_display'))\n",
    "            filepath = os.path.join(sketch_dir,'gameID_' + _d['gameID'] + '_trial_' + str(_d['trialNum']))\n",
    "            save(filepath, ext='png', close=True, verbose=False)"
   ]
  },
  {
   "cell_type": "code",
   "execution_count": null,
   "metadata": {
    "collapsed": true
   },
   "outputs": [],
   "source": [
    "## save out number of incorrect trial paths\n",
    "print \"Number of incorrect trial paths: {}\".format(str(len(incorrect_trial_paths)))\n",
    "with open('incorrect_trial_paths_pilot2.txt', 'w') as f:\n",
    "    for path in incorrect_trial_paths:\n",
    "        f.write(path + '\\n')"
   ]
  },
  {
   "cell_type": "code",
   "execution_count": null,
   "metadata": {
    "collapsed": true
   },
   "outputs": [],
   "source": []
  },
  {
   "cell_type": "markdown",
   "metadata": {},
   "source": [
    "### Print out sketches in separate folders"
   ]
  },
  {
   "cell_type": "code",
   "execution_count": null,
   "metadata": {
    "collapsed": true
   },
   "outputs": [],
   "source": []
  },
  {
   "cell_type": "code",
   "execution_count": null,
   "metadata": {
    "collapsed": true
   },
   "outputs": [],
   "source": [
    "## print out sketches with target & distractors from this game in separate folders\n",
    "import traceback\n",
    "backup_path_images = '/Users/judithfan/Dropbox/stimuli_repository/subordinate_allrotations_6_minified'\n",
    "\n",
    "_valid_gameids = valid_gameids[:3]\n",
    "\n",
    "target_sketch_dir = os.path.join(analysis_dir,'sketches_pilot2','sketch')\n",
    "target_3D_dir = os.path.join(analysis_dir,'sketches_pilot2','target')\n",
    "distractor1_3D_dir = os.path.join(analysis_dir,'sketches_pilot2','distractor1')\n",
    "distractor2_3D_dir = os.path.join(analysis_dir,'sketches_pilot2','distractor2')\n",
    "distractor3_3D_dir = os.path.join(analysis_dir,'sketches_pilot2','distractor3')\n",
    "out_paths = [target_3D_dir,distractor1_3D_dir,distractor2_3D_dir,distractor3_3D_dir]\n",
    "\n",
    "\n",
    "if not os.path.exists(target_3D_dir):\n",
    "    os.makedirs(os.path.join(analysis_dir,'sketches_pilot2','target'))\n",
    "    os.makedirs(os.path.join(analysis_dir,'sketches_pilot2','distractor1'))\n",
    "    os.makedirs(os.path.join(analysis_dir,'sketches_pilot2','distractor2'))\n",
    "    os.makedirs(os.path.join(analysis_dir,'sketches_pilot2','distractor3'))\n",
    "    os.makedirs(os.path.join(analysis_dir,'sketches_pilot2','sketch'))    \n",
    "\n",
    "run_this = 1\n",
    "if run_this:\n",
    "    for g in valid_gameids:\n",
    "        print 'Printing out sketches from game: ' + g\n",
    "        _D = D[(D.gameID==g)]\n",
    "        _D = _D.sort_values(by=['target'])\n",
    "        _i = 1\n",
    "        textsize=12\n",
    "        fig = plt.figure(figsize=(16,6))        \n",
    "        for i,_d in _D.iterrows():\n",
    "            imgData = _d['png']\n",
    "            filestr = base64.b64decode(imgData)\n",
    "            if not os.path.exists(target_sketch_dir):\n",
    "                os.makedirs(target_sketch_dir)\n",
    "            fname = os.path.join(target_sketch_dir,'gameID_' + _d['gameID'] + '_trial_' + str(_d['trialNum']) + '.png')\n",
    "            with open(fname, \"wb\") as fh:\n",
    "                fh.write(imgData.decode('base64'))\n",
    "            im = Image.open(fname)\n",
    "            im.save(fname)\n",
    "\n",
    "            targetname = _d['target']\n",
    "            distractors = [_d['Distractor1'],_d['Distractor2'],_d['Distractor3']]\n",
    "            full_list = [_d['target'],_d['Distractor1'],_d['Distractor2'],_d['Distractor3']]         \n",
    "            \n",
    "            for (i,d) in enumerate(full_list):\n",
    "                if os.path.exists(backup_path_images):\n",
    "                    if hasattr(t, 'pose'):\n",
    "                        fn = os.path.join(backup_path_images,get_actual_pose(d,pose)[0])\n",
    "                    else:\n",
    "                        fn = os.path.join(backup_path_images,get_actual_pose(d,35)[0])\n",
    "                else:\n",
    "                    if hasattr(t, 'pose'):\n",
    "                        pose = _d['pose']\n",
    "                        URL = build_url_from_filenames(get_actual_pose(d,pose)[0])\n",
    "                    else:\n",
    "                        URL = full_dict[d]\n",
    "                    fn = cStringIO.StringIO(urllib.urlopen(URL).read())\n",
    "                fig = plt.figure(figsize=(8,8))                    \n",
    "                im = Image.open(fn)\n",
    "                im = im.resize((256,256), Image.ANTIALIAS).convert('RGB')                                \n",
    "                out_dirs = [target_3D_dir,distractor1_3D_dir,distractor2_3D_dir,distractor3_3D_dir]                \n",
    "                out_path = os.path.join(out_dirs[i],'gameID_' + _d['gameID'] + '_trial_' + str(_d['trialNum']) + '_' + d + '.png')\n",
    "                im.save(out_path)\n",
    "\n"
   ]
  },
  {
   "cell_type": "code",
   "execution_count": null,
   "metadata": {
    "collapsed": true
   },
   "outputs": [],
   "source": []
  },
  {
   "cell_type": "code",
   "execution_count": null,
   "metadata": {
    "collapsed": true
   },
   "outputs": [],
   "source": []
  },
  {
   "cell_type": "code",
   "execution_count": null,
   "metadata": {
    "collapsed": true
   },
   "outputs": [],
   "source": []
  },
  {
   "cell_type": "code",
   "execution_count": null,
   "metadata": {
    "collapsed": true
   },
   "outputs": [],
   "source": []
  },
  {
   "cell_type": "code",
   "execution_count": null,
   "metadata": {
    "collapsed": true
   },
   "outputs": [],
   "source": []
  },
  {
   "cell_type": "code",
   "execution_count": null,
   "metadata": {
    "collapsed": true
   },
   "outputs": [],
   "source": []
  },
  {
   "cell_type": "markdown",
   "metadata": {},
   "source": [
    "### Load in data again to prep for model comparison"
   ]
  },
  {
   "cell_type": "code",
   "execution_count": 27,
   "metadata": {},
   "outputs": [
    {
     "name": "stdout",
     "output_type": "stream",
     "text": [
      "1892 records in merged dataframe\n"
     ]
    }
   ],
   "source": [
    "D = pd.read_csv(os.path.join(analysis_dir,'sketchpad_basic_pilot2_group_data.csv'))\n",
    "\n",
    "# filter out incorrect and invalid trials as well\n",
    "incorrects = pd.read_csv('./incorrect_trial_paths_pilot2.txt',header=None)[0].values\n",
    "invalids = []\n",
    "fname = []\n",
    "for i,_d in D.iterrows():\n",
    "    fname.append('gameID_' + _d['gameID'] + '_trial_' + str(_d['trialNum']) + '_' + _d['target'] +'.png')    \n",
    "D = D.assign(fname=pd.Series(fname).values)  \n",
    "D = D[~D['fname'].isin(incorrects)]\n",
    "# D = D[~D['fname'].isin(invalids)]\n",
    "\n",
    "print str(np.shape(D)[0]) + ' records in merged dataframe'"
   ]
  },
  {
   "cell_type": "markdown",
   "metadata": {
    "scrolled": false
   },
   "source": [
    "### Visualize distance distributions"
   ]
  },
  {
   "cell_type": "code",
   "execution_count": 31,
   "metadata": {
    "collapsed": true
   },
   "outputs": [],
   "source": [
    "path_to_dists = './RSA/refModule/json/strict-similarity-pragmatics-fixedpose_conv4_2.json'\n",
    "_dists = pd.read_json(path_to_dists)\n",
    "dists = _dists.transpose()\n",
    "x = _dists.columns.values\n",
    "y = [i.split('_')[-1] for i in x]\n",
    "lookup_table = dict(zip(y,x))\n",
    "reverse_lookup = dict(zip(x,y))"
   ]
  },
  {
   "cell_type": "code",
   "execution_count": 32,
   "metadata": {
    "collapsed": true
   },
   "outputs": [],
   "source": [
    "# sketch_label = [('trial_' + str(i) + '_' + str(j)) for i,j in zip(D['trialNum'].values,D['target'].values)]\n",
    "sketch_label = [(i[-12:] + '_' + str(j)) for i,j in zip(D['gameID'].values,D['trialNum'].values)]\n",
    "D = D.assign(sketch_label=pd.Series(sketch_label).values)"
   ]
  },
  {
   "cell_type": "code",
   "execution_count": 33,
   "metadata": {
    "collapsed": true
   },
   "outputs": [],
   "source": [
    "dT = []\n",
    "dD1 = []\n",
    "dD2 = []\n",
    "dD3 = []\n",
    "for i, _d in D.iterrows():\n",
    "    sketch = _d['sketch_label']\n",
    "    pose = int(_d['pose'])\n",
    "    target = lookup_table[_d['target']]\n",
    "    distractor1 = lookup_table[_d['Distractor1']]\n",
    "    distractor2 = lookup_table[_d['Distractor2']]\n",
    "    distractor3 = lookup_table[_d['Distractor3']]\n",
    "    dT.append(dists[sketch][target])\n",
    "    dD1.append(dists[sketch][distractor1])\n",
    "    dD2.append(dists[sketch][distractor2])\n",
    "    dD3.append(dists[sketch][distractor3])"
   ]
  },
  {
   "cell_type": "code",
   "execution_count": 34,
   "metadata": {
    "collapsed": true
   },
   "outputs": [],
   "source": [
    "D = D.assign(dT=pd.Series(dT).values)\n",
    "D = D.assign(dD1=pd.Series(dD1).values)\n",
    "D = D.assign(dD2=pd.Series(dD2).values)\n",
    "D = D.assign(dD3=pd.Series(dD3).values)"
   ]
  },
  {
   "cell_type": "code",
   "execution_count": null,
   "metadata": {
    "collapsed": true
   },
   "outputs": [],
   "source": []
  },
  {
   "cell_type": "code",
   "execution_count": null,
   "metadata": {
    "collapsed": true
   },
   "outputs": [],
   "source": [
    "# filter out training examples\n",
    "test_examples = pd.read_csv('./pilot2_test_examples.txt',header=None)[0].values\n",
    "test_examples = [i.split('.')[0] + '.png' for i in test_examples]"
   ]
  },
  {
   "cell_type": "code",
   "execution_count": null,
   "metadata": {
    "collapsed": true
   },
   "outputs": [],
   "source": [
    "\n",
    "sns.set_context('talk')\n",
    "\n",
    "plt.figure(figsize=(4,4))\n",
    "# plt.subplot(1,2,1)\n",
    "_D = D[(D.condition=='closer') & (D['fname'].isin(test_examples))]\n",
    "distractor_dists = np.hstack((_D.dD1.values,_D.dD2.values,_D.dD3.values))\n",
    "sns.kdeplot(distractor_dists, shade=True, color=(0.3,0.3,0.3),label='distractors')\n",
    "sns.kdeplot(_D.dT.values, shade=True, color=(0.9,0.7,0.1),label='target')\n",
    "plt.ylim([0,1.5])\n",
    "plt.xlim([-1,1])\n",
    "plt.xlabel('distance')\n",
    "plt.title('close (fixedpose)')\n",
    "\n",
    "# plt.subplot(1,2,2)\n",
    "# _D = D[(D.condition=='further') & (D['fname'].isin(test_examples))]\n",
    "# distractor_dists = np.hstack((_D.dD1.values,_D.dD2.values,_D.dD3.values))\n",
    "# sns.kdeplot(distractor_dists, shade=True, color=(0.3,0.3,0.3),label='distractors')\n",
    "# sns.kdeplot(_D.dT.values, shade=True, color=(0.9,0.7,0.1),label='target')\n",
    "# plt.ylim([0,4])\n",
    "# plt.xlim([-1,1])\n",
    "# plt.xlabel('distance')\n",
    "# plt.title('far')"
   ]
  },
  {
   "cell_type": "code",
   "execution_count": null,
   "metadata": {
    "collapsed": true
   },
   "outputs": [],
   "source": []
  },
  {
   "cell_type": "code",
   "execution_count": null,
   "metadata": {
    "collapsed": true
   },
   "outputs": [],
   "source": []
  },
  {
   "cell_type": "markdown",
   "metadata": {},
   "source": [
    "### Preprocessing to make bdaInput csv"
   ]
  },
  {
   "cell_type": "code",
   "execution_count": 26,
   "metadata": {
    "collapsed": true
   },
   "outputs": [],
   "source": []
  },
  {
   "cell_type": "code",
   "execution_count": 35,
   "metadata": {
    "collapsed": true
   },
   "outputs": [],
   "source": [
    "## make sure that the CLOSE training examples are filtered out\n",
    "# filter out training examples\n",
    "test_examples = pd.read_csv('./pilot2_test_examples.txt',header=None)[0].values\n",
    "test_examples = [i.split('.')[0] + '.png' for i in test_examples]\n",
    "close_test_examples = test_examples\n",
    "far_all_examples = list(D[D.condition=='further'].fname.values)\n",
    "keep_examples = close_test_examples # + far_all_examples\n",
    "D0 = D[D['fname'].isin(keep_examples)]"
   ]
  },
  {
   "cell_type": "code",
   "execution_count": 36,
   "metadata": {
    "collapsed": true
   },
   "outputs": [],
   "source": [
    "_sketchLabel = []\n",
    "_Condition = []\n",
    "_Target = []\n",
    "_Distractor1 = []\n",
    "_Distractor2 = []\n",
    "_Distractor3 = []\n",
    "for i, _d in D0.iterrows():\n",
    "    _sketchLabel.append(_d['sketch_label'])\n",
    "    _Condition.append(_d['condition'])    \n",
    "    _Target.append(lookup_table[_d['target']])\n",
    "    distractor1 = lookup_table[_d['Distractor1']]\n",
    "    distractor2 = lookup_table[_d['Distractor2']]\n",
    "    distractor3 = lookup_table[_d['Distractor3']]\n",
    "    d_list = sorted([distractor1, distractor2, distractor3])\n",
    "    _Distractor1.append(d_list[0])\n",
    "    _Distractor2.append(d_list[1])    \n",
    "    _Distractor3.append(d_list[2])    "
   ]
  },
  {
   "cell_type": "code",
   "execution_count": 41,
   "metadata": {
    "collapsed": true
   },
   "outputs": [],
   "source": [
    "D2 = pd.DataFrame([_Condition,_sketchLabel,_Target,_Distractor1,_Distractor2,_Distractor3])\n",
    "D2 = D2.transpose()\n",
    "D2.columns = ['condition','sketchLabel','Target','Distractor1','Distractor2','Distractor3']\n",
    "D2.to_csv('./RSA/bdaInput/sketchData_fixedPose-closeonly_pilot2.csv')"
   ]
  },
  {
   "cell_type": "code",
   "execution_count": 39,
   "metadata": {},
   "outputs": [
    {
     "data": {
      "text/plain": [
       "(179, 6)"
      ]
     },
     "execution_count": 39,
     "metadata": {},
     "output_type": "execute_result"
    }
   ],
   "source": [
    "D2.shape"
   ]
  },
  {
   "cell_type": "markdown",
   "metadata": {},
   "source": [
    "## Model comparison"
   ]
  },
  {
   "cell_type": "code",
   "execution_count": 48,
   "metadata": {
    "collapsed": true
   },
   "outputs": [],
   "source": [
    "def sumlogprob(a,b):\n",
    "    if (a > b):\n",
    "        return a + np.log1p(np.exp(b-a))\n",
    "    else:\n",
    "        return b + np.log1p(np.exp(a-b))    "
   ]
  },
  {
   "cell_type": "code",
   "execution_count": 52,
   "metadata": {},
   "outputs": [
    {
     "name": "stdout",
     "output_type": "stream",
     "text": [
      "(7600, 7)\n"
     ]
    },
    {
     "data": {
      "image/png": "[encoded data removed]",
      "text/plain": [
       "<matplotlib.figure.Figure at 0x7fd5451c3610>"
      ]
     },
     "metadata": {},
     "output_type": "display_data"
    }
   ],
   "source": [
    "P = pd.read_csv('./RSA/bdaOutput/testingParams_closeonly_fixedpose.csv')\n",
    "# filter out rows where posterior probability is -Infinity\n",
    "# P = P[P.posteriorProb!='-Infinity']\n",
    "print np.shape(P)\n",
    "\n",
    "X = P.groupby(['similarityMetric', 'speakerModel'])['logLikelihood']\n",
    "Y = X.apply(lambda x: reduce(sumlogprob,x) - np.log(len(x)))\n",
    "Y = pd.DataFrame(Y)\n",
    "\n",
    "sns.set_context('talk')\n",
    "colors = sns.color_palette(\"Paired\")\n",
    "fig = plt.figure(figsize=(16,4))\n",
    "seq = [('strict-mid-pragmatics','S0'),('strict-mid-pragmatics','S1'),('nonstrict-high-sketchy','S0'),('nonstrict-high-sketchy','S1')]\n",
    "sns.barplot(data=Y.transpose(),palette=colors, order = seq)\n",
    "plt.ylim([-1400,-1200])\n",
    "plt.ylabel('log likelihood')\n",
    "plt.title('model comparison: close only',fontsize=24)\n",
    "plt.show()"
   ]
  },
  {
   "cell_type": "code",
   "execution_count": 56,
   "metadata": {},
   "outputs": [
    {
     "name": "stdout",
     "output_type": "stream",
     "text": [
      "(7600, 7)\n"
     ]
    },
    {
     "data": {
      "image/png": "[encoded data removed]",
      "text/plain": [
       "<matplotlib.figure.Figure at 0x7fd54529d810>"
      ]
     },
     "metadata": {},
     "output_type": "display_data"
    }
   ],
   "source": [
    "P = pd.read_csv('./RSA/bdaOutput/testingParams_testdata_fixedpose.csv')\n",
    "# filter out rows where posterior probability is -Infinity\n",
    "# P = P[P.posteriorProb!='-Infinity']\n",
    "print np.shape(P)\n",
    "\n",
    "X = P.groupby(['similarityMetric', 'speakerModel'])['logLikelihood']\n",
    "Y = X.apply(lambda x: reduce(sumlogprob,x) - np.log(len(x)))\n",
    "Y = pd.DataFrame(Y)\n",
    "\n",
    "sns.set_context('talk')\n",
    "colors = sns.color_palette(\"Paired\")\n",
    "fig = plt.figure(figsize=(16,4))\n",
    "seq = [('strict-mid-pragmatics','S0'),('strict-mid-pragmatics','S1'),('nonstrict-high-sketchy','S0'),('nonstrict-high-sketchy','S1')]\n",
    "sns.barplot(data=Y.transpose(),palette=colors, order = seq)\n",
    "plt.ylim([-9000,-8000])\n",
    "plt.ylabel('log likelihood')\n",
    "plt.title('model comparison: held out data (majority far trials)',fontsize=24)\n",
    "plt.show()"
   ]
  },
  {
   "cell_type": "code",
   "execution_count": null,
   "metadata": {
    "collapsed": true
   },
   "outputs": [],
   "source": []
  }
 ],
 "metadata": {
  "kernelspec": {
   "display_name": "Python 2",
   "language": "python",
   "name": "python2"
  },
  "language_info": {
   "codemirror_mode": {
    "name": "ipython",
    "version": 2
   },
   "file_extension": ".py",
   "mimetype": "text/x-python",
   "name": "python",
   "nbconvert_exporter": "python",
   "pygments_lexer": "ipython2",
   "version": "2.7.12"
  }
 },
 "nbformat": 4,
 "nbformat_minor": 1
}
